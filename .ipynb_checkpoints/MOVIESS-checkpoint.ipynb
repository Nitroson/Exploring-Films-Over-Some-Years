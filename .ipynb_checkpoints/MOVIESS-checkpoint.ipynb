{
 "cells": [
  {
   "cell_type": "markdown",
   "id": "ff1f256b",
   "metadata": {},
   "source": [
    "# Stephen-Owusu-Nkansah-Movies-Data-Analysis"
   ]
  },
  {
   "attachments": {
    "download.png": {
     "image/png": "[encoded data removed]"
    }
   },
   "cell_type": "markdown",
   "id": "15d09796",
   "metadata": {},
   "source": [
    "# EXPLORING FILMS OVER SOME YEARS\n",
    "\n",
    "# In this project, we will analyze a dataset on movies collection over some past years.\n",
    "\n",
    "\n",
    "![download.png](attachment:download.png)\n",
    "\n",
    "\n",
    "\n",
    "### Problem Statement\n",
    "\n",
    "A multinational entertainment company decides to set up a cinema studio worldwide.In order to know the interest of individuals in terms of movies selection and also to know how to run this business and make more profits.\n",
    "\n",
    "Before the management team of the company can make good decision ,they want to draw the necessary insight from their 'sitting data of some released movies over the past years'.\n",
    "\n",
    "\n",
    "### Goals\n",
    "\n",
    ">At the end of this analysis, we should know:\n",
    "\n",
    "\n",
    "1.  Which Movie Has The Highest Or Lowest Profit? Top 10 movies which earn highest profit?\n",
    "2.  Movie with Highest And Lowest Budget? \n",
    "3.  Which movie made the highest revenue and lowest as well?\n",
    "4.  Movie with shorest and longest runtime?\n",
    "5.  Which movie get the highest or lowest votes (Ratings).\n",
    "6.  Which length movies most liked by the audiences according to their popularity?\n"
   ]
  },
  {
   "cell_type": "markdown",
   "id": "38bd9ae0",
   "metadata": {},
   "source": [
    "# Contents\n",
    "\n",
    " [Back to Outline](#Contents)\n",
    " \n",
    " \n",
    " \n",
    "1. [Loading Data](#Loading-data)\n",
    "2. [Assessing Data](#Assessing-data)\n",
    "3. [Data Cleaning](#Data-Cleaning)\n",
    " <li><a href=\"#eda\">Exploratory Data Analysis</a></li>\n",
    "\n",
    "5.[Further Analysis](#Further-Analysis)\n",
    "\n",
    "6. [Conclusions](#Conclusions)"
   ]
  },
  {
   "cell_type": "markdown",
   "id": "46d784ea",
   "metadata": {},
   "source": [
    "# Importing Libraries"
   ]
  },
  {
   "cell_type": "code",
   "execution_count": 1,
   "id": "0d046a43",
   "metadata": {},
   "outputs": [
    {
     "name": "stdout",
     "output_type": "stream",
     "text": [
      "Requirement already satisfied: missingno in /home/nitro/anaconda3/lib/python3.8/site-packages (0.5.1)\n",
      "Requirement already satisfied: scipy in /home/nitro/anaconda3/lib/python3.8/site-packages (from missingno) (1.6.2)\n",
      "Requirement already satisfied: numpy in /home/nitro/anaconda3/lib/python3.8/site-packages (from missingno) (1.20.1)\n",
      "Requirement already satisfied: seaborn in /home/nitro/anaconda3/lib/python3.8/site-packages (from missingno) (0.11.1)\n",
      "Requirement already satisfied: matplotlib in /home/nitro/anaconda3/lib/python3.8/site-packages (from missingno) (3.3.4)\n",
      "Requirement already satisfied: pillow>=6.2.0 in /home/nitro/anaconda3/lib/python3.8/site-packages (from matplotlib->missingno) (8.2.0)\n",
      "Requirement already satisfied: pyparsing!=2.0.4,!=2.1.2,!=2.1.6,>=2.0.3 in /home/nitro/anaconda3/lib/python3.8/site-packages (from matplotlib->missingno) (2.4.7)\n",
      "Requirement already satisfied: python-dateutil>=2.1 in /home/nitro/anaconda3/lib/python3.8/site-packages (from matplotlib->missingno) (2.8.1)\n",
      "Requirement already satisfied: cycler>=0.10 in /home/nitro/anaconda3/lib/python3.8/site-packages (from matplotlib->missingno) (0.10.0)\n",
      "Requirement already satisfied: kiwisolver>=1.0.1 in /home/nitro/anaconda3/lib/python3.8/site-packages (from matplotlib->missingno) (1.3.1)\n",
      "Requirement already satisfied: six in /home/nitro/anaconda3/lib/python3.8/site-packages (from cycler>=0.10->matplotlib->missingno) (1.15.0)\n",
      "Requirement already satisfied: pandas>=0.23 in /home/nitro/anaconda3/lib/python3.8/site-packages (from seaborn->missingno) (1.2.4)\n",
      "Requirement already satisfied: pytz>=2017.3 in /home/nitro/anaconda3/lib/python3.8/site-packages (from pandas>=0.23->seaborn->missingno) (2021.1)\n"
     ]
    }
   ],
   "source": [
    "#importing all necessary packages and libraries\n",
    "!pip install missingno \n",
    "import missingno as msno\n",
    "import numpy as np\n",
    "import pandas as pd\n",
    "import matplotlib.pyplot as plt\n",
    "import seaborn as sns\n",
    "import datetime\n",
    "\n",
    "\n",
    "\n",
    "\n",
    "import warnings\n",
    "warnings.filterwarnings('ignore')\n"
   ]
  },
  {
   "cell_type": "code",
   "execution_count": null,
   "id": "3e534854",
   "metadata": {},
   "outputs": [],
   "source": []
  },
  {
   "cell_type": "markdown",
   "id": "536b6d30",
   "metadata": {},
   "source": [
    "# Loading-data"
   ]
  },
  {
   "cell_type": "code",
   "execution_count": 2,
   "id": "6392421f",
   "metadata": {
    "scrolled": true
   },
   "outputs": [
    {
     "data": {
      "text/html": [
       "<div>\n",
       "<style scoped>\n",
       "    .dataframe tbody tr th:only-of-type {\n",
       "        vertical-align: middle;\n",
       "    }\n",
       "\n",
       "    .dataframe tbody tr th {\n",
       "        vertical-align: top;\n",
       "    }\n",
       "\n",
       "    .dataframe thead th {\n",
       "        text-align: right;\n",
       "    }\n",
       "</style>\n",
       "<table border=\"1\" class=\"dataframe\">\n",
       "  <thead>\n",
       "    <tr style=\"text-align: right;\">\n",
       "      <th></th>\n",
       "      <th>budget</th>\n",
       "      <th>genres</th>\n",
       "      <th>homepage</th>\n",
       "      <th>id</th>\n",
       "      <th>keywords</th>\n",
       "      <th>original_language</th>\n",
       "      <th>original_title</th>\n",
       "      <th>overview</th>\n",
       "      <th>popularity</th>\n",
       "      <th>production_companies</th>\n",
       "      <th>production_countries</th>\n",
       "      <th>release_date</th>\n",
       "      <th>revenue</th>\n",
       "      <th>runtime</th>\n",
       "      <th>spoken_languages</th>\n",
       "      <th>status</th>\n",
       "      <th>tagline</th>\n",
       "      <th>title</th>\n",
       "      <th>vote_average</th>\n",
       "      <th>vote_count</th>\n",
       "    </tr>\n",
       "  </thead>\n",
       "  <tbody>\n",
       "    <tr>\n",
       "      <th>0</th>\n",
       "      <td>237000000</td>\n",
       "      <td>[{\"id\": 28, \"name\": \"Action\"}, {\"id\": 12, \"nam...</td>\n",
       "      <td>http://www.avatarmovie.com/</td>\n",
       "      <td>19995</td>\n",
       "      <td>[{\"id\": 1463, \"name\": \"culture clash\"}, {\"id\":...</td>\n",
       "      <td>en</td>\n",
       "      <td>Avatar</td>\n",
       "      <td>In the 22nd century, a paraplegic Marine is di...</td>\n",
       "      <td>150.437577</td>\n",
       "      <td>[{\"name\": \"Ingenious Film Partners\", \"id\": 289...</td>\n",
       "      <td>[{\"iso_3166_1\": \"US\", \"name\": \"United States o...</td>\n",
       "      <td>2009-12-10</td>\n",
       "      <td>2787965087</td>\n",
       "      <td>162.0</td>\n",
       "      <td>[{\"iso_639_1\": \"en\", \"name\": \"English\"}, {\"iso...</td>\n",
       "      <td>Released</td>\n",
       "      <td>Enter the World of Pandora.</td>\n",
       "      <td>Avatar</td>\n",
       "      <td>7.2</td>\n",
       "      <td>11800</td>\n",
       "    </tr>\n",
       "    <tr>\n",
       "      <th>1</th>\n",
       "      <td>300000000</td>\n",
       "      <td>[{\"id\": 12, \"name\": \"Adventure\"}, {\"id\": 14, \"...</td>\n",
       "      <td>http://disney.go.com/disneypictures/pirates/</td>\n",
       "      <td>285</td>\n",
       "      <td>[{\"id\": 270, \"name\": \"ocean\"}, {\"id\": 726, \"na...</td>\n",
       "      <td>en</td>\n",
       "      <td>Pirates of the Caribbean: At World's End</td>\n",
       "      <td>Captain Barbossa, long believed to be dead, ha...</td>\n",
       "      <td>139.082615</td>\n",
       "      <td>[{\"name\": \"Walt Disney Pictures\", \"id\": 2}, {\"...</td>\n",
       "      <td>[{\"iso_3166_1\": \"US\", \"name\": \"United States o...</td>\n",
       "      <td>2007-05-19</td>\n",
       "      <td>961000000</td>\n",
       "      <td>169.0</td>\n",
       "      <td>[{\"iso_639_1\": \"en\", \"name\": \"English\"}]</td>\n",
       "      <td>Released</td>\n",
       "      <td>At the end of the world, the adventure begins.</td>\n",
       "      <td>Pirates of the Caribbean: At World's End</td>\n",
       "      <td>6.9</td>\n",
       "      <td>4500</td>\n",
       "    </tr>\n",
       "    <tr>\n",
       "      <th>2</th>\n",
       "      <td>245000000</td>\n",
       "      <td>[{\"id\": 28, \"name\": \"Action\"}, {\"id\": 12, \"nam...</td>\n",
       "      <td>http://www.sonypictures.com/movies/spectre/</td>\n",
       "      <td>206647</td>\n",
       "      <td>[{\"id\": 470, \"name\": \"spy\"}, {\"id\": 818, \"name...</td>\n",
       "      <td>en</td>\n",
       "      <td>Spectre</td>\n",
       "      <td>A cryptic message from Bond’s past sends him o...</td>\n",
       "      <td>107.376788</td>\n",
       "      <td>[{\"name\": \"Columbia Pictures\", \"id\": 5}, {\"nam...</td>\n",
       "      <td>[{\"iso_3166_1\": \"GB\", \"name\": \"United Kingdom\"...</td>\n",
       "      <td>2015-10-26</td>\n",
       "      <td>880674609</td>\n",
       "      <td>148.0</td>\n",
       "      <td>[{\"iso_639_1\": \"fr\", \"name\": \"Fran\\u00e7ais\"},...</td>\n",
       "      <td>Released</td>\n",
       "      <td>A Plan No One Escapes</td>\n",
       "      <td>Spectre</td>\n",
       "      <td>6.3</td>\n",
       "      <td>4466</td>\n",
       "    </tr>\n",
       "    <tr>\n",
       "      <th>3</th>\n",
       "      <td>250000000</td>\n",
       "      <td>[{\"id\": 28, \"name\": \"Action\"}, {\"id\": 80, \"nam...</td>\n",
       "      <td>http://www.thedarkknightrises.com/</td>\n",
       "      <td>49026</td>\n",
       "      <td>[{\"id\": 849, \"name\": \"dc comics\"}, {\"id\": 853,...</td>\n",
       "      <td>en</td>\n",
       "      <td>The Dark Knight Rises</td>\n",
       "      <td>Following the death of District Attorney Harve...</td>\n",
       "      <td>112.312950</td>\n",
       "      <td>[{\"name\": \"Legendary Pictures\", \"id\": 923}, {\"...</td>\n",
       "      <td>[{\"iso_3166_1\": \"US\", \"name\": \"United States o...</td>\n",
       "      <td>2012-07-16</td>\n",
       "      <td>1084939099</td>\n",
       "      <td>165.0</td>\n",
       "      <td>[{\"iso_639_1\": \"en\", \"name\": \"English\"}]</td>\n",
       "      <td>Released</td>\n",
       "      <td>The Legend Ends</td>\n",
       "      <td>The Dark Knight Rises</td>\n",
       "      <td>7.6</td>\n",
       "      <td>9106</td>\n",
       "    </tr>\n",
       "    <tr>\n",
       "      <th>4</th>\n",
       "      <td>260000000</td>\n",
       "      <td>[{\"id\": 28, \"name\": \"Action\"}, {\"id\": 12, \"nam...</td>\n",
       "      <td>http://movies.disney.com/john-carter</td>\n",
       "      <td>49529</td>\n",
       "      <td>[{\"id\": 818, \"name\": \"based on novel\"}, {\"id\":...</td>\n",
       "      <td>en</td>\n",
       "      <td>John Carter</td>\n",
       "      <td>John Carter is a war-weary, former military ca...</td>\n",
       "      <td>43.926995</td>\n",
       "      <td>[{\"name\": \"Walt Disney Pictures\", \"id\": 2}]</td>\n",
       "      <td>[{\"iso_3166_1\": \"US\", \"name\": \"United States o...</td>\n",
       "      <td>2012-03-07</td>\n",
       "      <td>284139100</td>\n",
       "      <td>132.0</td>\n",
       "      <td>[{\"iso_639_1\": \"en\", \"name\": \"English\"}]</td>\n",
       "      <td>Released</td>\n",
       "      <td>Lost in our world, found in another.</td>\n",
       "      <td>John Carter</td>\n",
       "      <td>6.1</td>\n",
       "      <td>2124</td>\n",
       "    </tr>\n",
       "  </tbody>\n",
       "</table>\n",
       "</div>"
      ],
      "text/plain": [
       "      budget                                             genres  \\\n",
       "0  237000000  [{\"id\": 28, \"name\": \"Action\"}, {\"id\": 12, \"nam...   \n",
       "1  300000000  [{\"id\": 12, \"name\": \"Adventure\"}, {\"id\": 14, \"...   \n",
       "2  245000000  [{\"id\": 28, \"name\": \"Action\"}, {\"id\": 12, \"nam...   \n",
       "3  250000000  [{\"id\": 28, \"name\": \"Action\"}, {\"id\": 80, \"nam...   \n",
       "4  260000000  [{\"id\": 28, \"name\": \"Action\"}, {\"id\": 12, \"nam...   \n",
       "\n",
       "                                       homepage      id  \\\n",
       "0                   http://www.avatarmovie.com/   19995   \n",
       "1  http://disney.go.com/disneypictures/pirates/     285   \n",
       "2   http://www.sonypictures.com/movies/spectre/  206647   \n",
       "3            http://www.thedarkknightrises.com/   49026   \n",
       "4          http://movies.disney.com/john-carter   49529   \n",
       "\n",
       "                                            keywords original_language  \\\n",
       "0  [{\"id\": 1463, \"name\": \"culture clash\"}, {\"id\":...                en   \n",
       "1  [{\"id\": 270, \"name\": \"ocean\"}, {\"id\": 726, \"na...                en   \n",
       "2  [{\"id\": 470, \"name\": \"spy\"}, {\"id\": 818, \"name...                en   \n",
       "3  [{\"id\": 849, \"name\": \"dc comics\"}, {\"id\": 853,...                en   \n",
       "4  [{\"id\": 818, \"name\": \"based on novel\"}, {\"id\":...                en   \n",
       "\n",
       "                             original_title  \\\n",
       "0                                    Avatar   \n",
       "1  Pirates of the Caribbean: At World's End   \n",
       "2                                   Spectre   \n",
       "3                     The Dark Knight Rises   \n",
       "4                               John Carter   \n",
       "\n",
       "                                            overview  popularity  \\\n",
       "0  In the 22nd century, a paraplegic Marine is di...  150.437577   \n",
       "1  Captain Barbossa, long believed to be dead, ha...  139.082615   \n",
       "2  A cryptic message from Bond’s past sends him o...  107.376788   \n",
       "3  Following the death of District Attorney Harve...  112.312950   \n",
       "4  John Carter is a war-weary, former military ca...   43.926995   \n",
       "\n",
       "                                production_companies  \\\n",
       "0  [{\"name\": \"Ingenious Film Partners\", \"id\": 289...   \n",
       "1  [{\"name\": \"Walt Disney Pictures\", \"id\": 2}, {\"...   \n",
       "2  [{\"name\": \"Columbia Pictures\", \"id\": 5}, {\"nam...   \n",
       "3  [{\"name\": \"Legendary Pictures\", \"id\": 923}, {\"...   \n",
       "4        [{\"name\": \"Walt Disney Pictures\", \"id\": 2}]   \n",
       "\n",
       "                                production_countries release_date     revenue  \\\n",
       "0  [{\"iso_3166_1\": \"US\", \"name\": \"United States o...   2009-12-10  2787965087   \n",
       "1  [{\"iso_3166_1\": \"US\", \"name\": \"United States o...   2007-05-19   961000000   \n",
       "2  [{\"iso_3166_1\": \"GB\", \"name\": \"United Kingdom\"...   2015-10-26   880674609   \n",
       "3  [{\"iso_3166_1\": \"US\", \"name\": \"United States o...   2012-07-16  1084939099   \n",
       "4  [{\"iso_3166_1\": \"US\", \"name\": \"United States o...   2012-03-07   284139100   \n",
       "\n",
       "   runtime                                   spoken_languages    status  \\\n",
       "0    162.0  [{\"iso_639_1\": \"en\", \"name\": \"English\"}, {\"iso...  Released   \n",
       "1    169.0           [{\"iso_639_1\": \"en\", \"name\": \"English\"}]  Released   \n",
       "2    148.0  [{\"iso_639_1\": \"fr\", \"name\": \"Fran\\u00e7ais\"},...  Released   \n",
       "3    165.0           [{\"iso_639_1\": \"en\", \"name\": \"English\"}]  Released   \n",
       "4    132.0           [{\"iso_639_1\": \"en\", \"name\": \"English\"}]  Released   \n",
       "\n",
       "                                          tagline  \\\n",
       "0                     Enter the World of Pandora.   \n",
       "1  At the end of the world, the adventure begins.   \n",
       "2                           A Plan No One Escapes   \n",
       "3                                 The Legend Ends   \n",
       "4            Lost in our world, found in another.   \n",
       "\n",
       "                                      title  vote_average  vote_count  \n",
       "0                                    Avatar           7.2       11800  \n",
       "1  Pirates of the Caribbean: At World's End           6.9        4500  \n",
       "2                                   Spectre           6.3        4466  \n",
       "3                     The Dark Knight Rises           7.6        9106  \n",
       "4                               John Carter           6.1        2124  "
      ]
     },
     "execution_count": 2,
     "metadata": {},
     "output_type": "execute_result"
    }
   ],
   "source": [
    "#Read movies \n",
    "\n",
    "movies = pd.read_csv(\"/home/nitro/Documents/archive/tmdb_5000_movies.csv\")\n",
    "\n",
    "#Print the first five rows\n",
    "movies.head()"
   ]
  },
  {
   "cell_type": "code",
   "execution_count": null,
   "id": "ad60affa",
   "metadata": {},
   "outputs": [],
   "source": []
  },
  {
   "cell_type": "markdown",
   "id": "0ae9b5e3",
   "metadata": {},
   "source": [
    "\n",
    "# Understanding the Dataset\n",
    "\n",
    "### The dataset above was obtained from Kaggle.com. Let us have a look at the features that are available to us."
   ]
  },
  {
   "cell_type": "code",
   "execution_count": 3,
   "id": "9d0085ff",
   "metadata": {},
   "outputs": [
    {
     "data": {
      "text/plain": [
       "Index(['budget', 'genres', 'homepage', 'id', 'keywords', 'original_language',\n",
       "       'original_title', 'overview', 'popularity', 'production_companies',\n",
       "       'production_countries', 'release_date', 'revenue', 'runtime',\n",
       "       'spoken_languages', 'status', 'tagline', 'title', 'vote_average',\n",
       "       'vote_count'],\n",
       "      dtype='object')"
      ]
     },
     "execution_count": 3,
     "metadata": {},
     "output_type": "execute_result"
    }
   ],
   "source": [
    "#read columns\n",
    "movies.columns\n",
    "\n"
   ]
  },
  {
   "cell_type": "markdown",
   "id": "211c63f6",
   "metadata": {},
   "source": [
    "# Features\n",
    "\n",
    "*  **budget:** The budget of the movie.\n",
    "* **genres:** A stringified list of dictionaries that list out all the genres associated with the movie.\n",
    "* **homepage:** The Official Homepage of the move.\n",
    "* **id:** The ID of the movies.\n",
    "* **keywords:** The main word use to describe the movies.\n",
    "* **original_language:** The language in which the movies were originally shot in.\n",
    "* **original_title:** The original title of the movies.\n",
    "* **overview:** A brief blurb of the movies.\n",
    "* **popularity:** The Popularity Score assigned.\n",
    "* **production_companies:** A stringified list of production companies involved with the making of the movies.\n",
    "* **production_countries:** A stringified list of countries where the movis were shot/produced in.\n",
    "* **release_date:** Theatrical Release Date of the movies.\n",
    "* **revenue:** The total revenue of the movies.\n",
    "* **runtime:** The runtime of the movies in minutes.\n",
    "* **spoken_languages:** A stringified list of spoken languages in the film.\n",
    "* **status:** The status of the movies (Released, To Be Released, Announced, etc.)\n",
    "* **tagline:** The tagline of the movies.\n",
    "* **title:** The Official Title of the movies.\n",
    "* **vote_average:** The average rating of the movies.\n",
    "* **vote_count:** The number of votes by users.\n"
   ]
  },
  {
   "cell_type": "markdown",
   "id": "ffea884a",
   "metadata": {},
   "source": [
    "# Assessing-data"
   ]
  },
  {
   "cell_type": "code",
   "execution_count": 4,
   "id": "fd636872",
   "metadata": {},
   "outputs": [
    {
     "data": {
      "text/plain": [
       "(4803, 20)"
      ]
     },
     "execution_count": 4,
     "metadata": {},
     "output_type": "execute_result"
    }
   ],
   "source": [
    "#Displaying all available rows and columns in the dataset\n",
    "movies.shape"
   ]
  },
  {
   "cell_type": "markdown",
   "id": "ce476de9",
   "metadata": {},
   "source": [
    "#### The movies dataset has 4,803 rows and 20 columns."
   ]
  },
  {
   "cell_type": "code",
   "execution_count": 5,
   "id": "e02af24b",
   "metadata": {},
   "outputs": [
    {
     "name": "stdout",
     "output_type": "stream",
     "text": [
      "<class 'pandas.core.frame.DataFrame'>\n",
      "RangeIndex: 4803 entries, 0 to 4802\n",
      "Data columns (total 20 columns):\n",
      " #   Column                Non-Null Count  Dtype  \n",
      "---  ------                --------------  -----  \n",
      " 0   budget                4803 non-null   int64  \n",
      " 1   genres                4803 non-null   object \n",
      " 2   homepage              1712 non-null   object \n",
      " 3   id                    4803 non-null   int64  \n",
      " 4   keywords              4803 non-null   object \n",
      " 5   original_language     4803 non-null   object \n",
      " 6   original_title        4803 non-null   object \n",
      " 7   overview              4800 non-null   object \n",
      " 8   popularity            4803 non-null   float64\n",
      " 9   production_companies  4803 non-null   object \n",
      " 10  production_countries  4803 non-null   object \n",
      " 11  release_date          4802 non-null   object \n",
      " 12  revenue               4803 non-null   int64  \n",
      " 13  runtime               4801 non-null   float64\n",
      " 14  spoken_languages      4803 non-null   object \n",
      " 15  status                4803 non-null   object \n",
      " 16  tagline               3959 non-null   object \n",
      " 17  title                 4803 non-null   object \n",
      " 18  vote_average          4803 non-null   float64\n",
      " 19  vote_count            4803 non-null   int64  \n",
      "dtypes: float64(3), int64(4), object(13)\n",
      "memory usage: 750.6+ KB\n"
     ]
    }
   ],
   "source": [
    "#Metadata of the dataset\n",
    "\n",
    "movies.info()\n",
    "\n"
   ]
  },
  {
   "cell_type": "markdown",
   "id": "8dfd506d",
   "metadata": {},
   "source": [
    "###### From the above display of the metadata of the dataset, most of the features have very few NaN values (apart from homepage and tagline). We will attempt at cleaning this dataset to a form suitable for analysis in the next section."
   ]
  },
  {
   "cell_type": "code",
   "execution_count": null,
   "id": "abd252bc",
   "metadata": {},
   "outputs": [],
   "source": []
  },
  {
   "cell_type": "markdown",
   "id": "00c8cd60",
   "metadata": {},
   "source": [
    "# Data-Cleaning \n",
    "\n"
   ]
  },
  {
   "cell_type": "code",
   "execution_count": 6,
   "id": "bb637e08",
   "metadata": {},
   "outputs": [
    {
     "data": {
      "text/plain": [
       "<AxesSubplot:>"
      ]
     },
     "execution_count": 6,
     "metadata": {},
     "output_type": "execute_result"
    },
    {
     "data": {
      "image/png": "[encoded data removed]",
      "text/plain": [
       "<Figure size 1800x720 with 2 Axes>"
      ]
     },
     "metadata": {
      "needs_background": "light"
     },
     "output_type": "display_data"
    }
   ],
   "source": [
    "\n",
    "#using missingno to visualise the missing values in the dataset\n",
    "msno.matrix(movies)"
   ]
  },
  {
   "cell_type": "markdown",
   "id": "a6eb4923",
   "metadata": {},
   "source": [
    "From the diagram above, more than **50%** of the data in the **homepage is missing**. Hence we will have to drop the column when cleaning the data we can use also drop some colummns such as **(id,hompage,keywords,tagline etc) since we won't use them  in our analysis**."
   ]
  },
  {
   "cell_type": "code",
   "execution_count": 7,
   "id": "7f3b18e1",
   "metadata": {},
   "outputs": [],
   "source": [
    "movies = movies.drop(['status','homepage','keywords','original_language','production_companies','overview',\n",
    "'spoken_languages','original_title','tagline'], axis = 1) \n"
   ]
  },
  {
   "cell_type": "code",
   "execution_count": 8,
   "id": "6dcb8f81",
   "metadata": {},
   "outputs": [
    {
     "data": {
      "text/plain": [
       "(4803, 11)"
      ]
     },
     "execution_count": 8,
     "metadata": {},
     "output_type": "execute_result"
    }
   ],
   "source": [
    "#displaying available left\n",
    "movies.shape"
   ]
  },
  {
   "cell_type": "markdown",
   "id": "05331711",
   "metadata": {},
   "source": [
    "#### CHECKING DATA TYPE  AND NULL COUNT"
   ]
  },
  {
   "cell_type": "code",
   "execution_count": 9,
   "id": "fd795fb7",
   "metadata": {},
   "outputs": [
    {
     "name": "stdout",
     "output_type": "stream",
     "text": [
      "<class 'pandas.core.frame.DataFrame'>\n",
      "RangeIndex: 4803 entries, 0 to 4802\n",
      "Data columns (total 11 columns):\n",
      " #   Column                Non-Null Count  Dtype  \n",
      "---  ------                --------------  -----  \n",
      " 0   budget                4803 non-null   int64  \n",
      " 1   genres                4803 non-null   object \n",
      " 2   id                    4803 non-null   int64  \n",
      " 3   popularity            4803 non-null   float64\n",
      " 4   production_countries  4803 non-null   object \n",
      " 5   release_date          4802 non-null   object \n",
      " 6   revenue               4803 non-null   int64  \n",
      " 7   runtime               4801 non-null   float64\n",
      " 8   title                 4803 non-null   object \n",
      " 9   vote_average          4803 non-null   float64\n",
      " 10  vote_count            4803 non-null   int64  \n",
      "dtypes: float64(3), int64(4), object(4)\n",
      "memory usage: 412.9+ KB\n"
     ]
    }
   ],
   "source": [
    "movies.info()"
   ]
  },
  {
   "cell_type": "markdown",
   "id": "2f021f0d",
   "metadata": {},
   "source": [
    "\n",
    "#### CHECKING FOR NULL VALUES"
   ]
  },
  {
   "cell_type": "code",
   "execution_count": 10,
   "id": "b474bef2",
   "metadata": {},
   "outputs": [
    {
     "data": {
      "text/plain": [
       "budget                  0\n",
       "genres                  0\n",
       "id                      0\n",
       "popularity              0\n",
       "production_countries    0\n",
       "release_date            1\n",
       "revenue                 0\n",
       "runtime                 2\n",
       "title                   0\n",
       "vote_average            0\n",
       "vote_count              0\n",
       "dtype: int64"
      ]
     },
     "execution_count": 10,
     "metadata": {},
     "output_type": "execute_result"
    }
   ],
   "source": [
    "movies.isnull().sum()\n"
   ]
  },
  {
   "cell_type": "markdown",
   "id": "a07aba84",
   "metadata": {},
   "source": [
    "#### Dropping null field\n",
    "\n",
    "###### From the display above we need to drop the missing values for release date and runtime to help run a smooth analysis."
   ]
  },
  {
   "cell_type": "code",
   "execution_count": 11,
   "id": "d9f1ed5d",
   "metadata": {},
   "outputs": [
    {
     "data": {
      "text/plain": [
       "(4800, 11)"
      ]
     },
     "execution_count": 11,
     "metadata": {},
     "output_type": "execute_result"
    }
   ],
   "source": [
    "\n",
    "movies = movies.dropna(subset=['runtime','release_date'])\n",
    "movies.shape"
   ]
  },
  {
   "cell_type": "code",
   "execution_count": null,
   "id": "34cac57d",
   "metadata": {},
   "outputs": [],
   "source": []
  },
  {
   "cell_type": "code",
   "execution_count": 12,
   "id": "da7421c1",
   "metadata": {},
   "outputs": [
    {
     "name": "stdout",
     "output_type": "stream",
     "text": [
      "<class 'pandas.core.frame.DataFrame'>\n",
      "Int64Index: 4800 entries, 0 to 4802\n",
      "Data columns (total 11 columns):\n",
      " #   Column                Non-Null Count  Dtype  \n",
      "---  ------                --------------  -----  \n",
      " 0   budget                4800 non-null   int64  \n",
      " 1   genres                4800 non-null   object \n",
      " 2   id                    4800 non-null   int64  \n",
      " 3   popularity            4800 non-null   float64\n",
      " 4   production_countries  4800 non-null   object \n",
      " 5   release_date          4800 non-null   object \n",
      " 6   revenue               4800 non-null   int64  \n",
      " 7   runtime               4800 non-null   float64\n",
      " 8   title                 4800 non-null   object \n",
      " 9   vote_average          4800 non-null   float64\n",
      " 10  vote_count            4800 non-null   int64  \n",
      "dtypes: float64(3), int64(4), object(4)\n",
      "memory usage: 450.0+ KB\n"
     ]
    }
   ],
   "source": [
    "#Checking all movie information after dropping null values\n",
    "\n",
    "movies.isnull().sum()\n",
    "movies.info()"
   ]
  },
  {
   "cell_type": "code",
   "execution_count": 13,
   "id": "5b3cc144",
   "metadata": {},
   "outputs": [
    {
     "data": {
      "text/plain": [
       "0   2009-12-10\n",
       "1   2007-05-19\n",
       "2   2015-10-26\n",
       "3   2012-07-16\n",
       "4   2012-03-07\n",
       "Name: release_date, dtype: datetime64[ns]"
      ]
     },
     "execution_count": 13,
     "metadata": {},
     "output_type": "execute_result"
    }
   ],
   "source": [
    "#the runtime given in the dataset is in string format.\n",
    "#So we need to change this in datetime format\n",
    "\n",
    "movies['release_date'] = pd.to_datetime(movies['release_date'])\n",
    "movies['release_date'].head()"
   ]
  },
  {
   "cell_type": "code",
   "execution_count": null,
   "id": "a4660a1b",
   "metadata": {},
   "outputs": [],
   "source": []
  },
  {
   "cell_type": "code",
   "execution_count": 14,
   "id": "ea57049e",
   "metadata": {
    "scrolled": true
   },
   "outputs": [
    {
     "data": {
      "text/html": [
       "<div>\n",
       "<style scoped>\n",
       "    .dataframe tbody tr th:only-of-type {\n",
       "        vertical-align: middle;\n",
       "    }\n",
       "\n",
       "    .dataframe tbody tr th {\n",
       "        vertical-align: top;\n",
       "    }\n",
       "\n",
       "    .dataframe thead th {\n",
       "        text-align: right;\n",
       "    }\n",
       "</style>\n",
       "<table border=\"1\" class=\"dataframe\">\n",
       "  <thead>\n",
       "    <tr style=\"text-align: right;\">\n",
       "      <th></th>\n",
       "      <th>budget</th>\n",
       "      <th>id</th>\n",
       "      <th>popularity</th>\n",
       "      <th>revenue</th>\n",
       "      <th>runtime</th>\n",
       "      <th>vote_average</th>\n",
       "      <th>vote_count</th>\n",
       "    </tr>\n",
       "  </thead>\n",
       "  <tbody>\n",
       "    <tr>\n",
       "      <th>count</th>\n",
       "      <td>4.800000e+03</td>\n",
       "      <td>4800.000000</td>\n",
       "      <td>4800.000000</td>\n",
       "      <td>4.800000e+03</td>\n",
       "      <td>4800.000000</td>\n",
       "      <td>4800.000000</td>\n",
       "      <td>4800.000000</td>\n",
       "    </tr>\n",
       "    <tr>\n",
       "      <th>mean</th>\n",
       "      <td>2.906007e+07</td>\n",
       "      <td>56949.011667</td>\n",
       "      <td>21.505569</td>\n",
       "      <td>8.231205e+07</td>\n",
       "      <td>106.898125</td>\n",
       "      <td>6.094458</td>\n",
       "      <td>690.646875</td>\n",
       "    </tr>\n",
       "    <tr>\n",
       "      <th>std</th>\n",
       "      <td>4.073029e+07</td>\n",
       "      <td>88292.839372</td>\n",
       "      <td>31.822163</td>\n",
       "      <td>1.628950e+08</td>\n",
       "      <td>22.561593</td>\n",
       "      <td>1.188366</td>\n",
       "      <td>1234.852449</td>\n",
       "    </tr>\n",
       "    <tr>\n",
       "      <th>min</th>\n",
       "      <td>0.000000e+00</td>\n",
       "      <td>5.000000</td>\n",
       "      <td>0.000372</td>\n",
       "      <td>0.000000e+00</td>\n",
       "      <td>0.000000</td>\n",
       "      <td>0.000000</td>\n",
       "      <td>0.000000</td>\n",
       "    </tr>\n",
       "    <tr>\n",
       "      <th>25%</th>\n",
       "      <td>8.000000e+05</td>\n",
       "      <td>9012.750000</td>\n",
       "      <td>4.682212</td>\n",
       "      <td>0.000000e+00</td>\n",
       "      <td>94.000000</td>\n",
       "      <td>5.600000</td>\n",
       "      <td>54.000000</td>\n",
       "    </tr>\n",
       "    <tr>\n",
       "      <th>50%</th>\n",
       "      <td>1.500000e+07</td>\n",
       "      <td>14623.500000</td>\n",
       "      <td>12.928897</td>\n",
       "      <td>1.918199e+07</td>\n",
       "      <td>103.000000</td>\n",
       "      <td>6.200000</td>\n",
       "      <td>236.000000</td>\n",
       "    </tr>\n",
       "    <tr>\n",
       "      <th>75%</th>\n",
       "      <td>4.000000e+07</td>\n",
       "      <td>58512.500000</td>\n",
       "      <td>28.350628</td>\n",
       "      <td>9.293886e+07</td>\n",
       "      <td>118.000000</td>\n",
       "      <td>6.800000</td>\n",
       "      <td>737.250000</td>\n",
       "    </tr>\n",
       "    <tr>\n",
       "      <th>max</th>\n",
       "      <td>3.800000e+08</td>\n",
       "      <td>447027.000000</td>\n",
       "      <td>875.581305</td>\n",
       "      <td>2.787965e+09</td>\n",
       "      <td>338.000000</td>\n",
       "      <td>10.000000</td>\n",
       "      <td>13752.000000</td>\n",
       "    </tr>\n",
       "  </tbody>\n",
       "</table>\n",
       "</div>"
      ],
      "text/plain": [
       "             budget             id   popularity       revenue      runtime  \\\n",
       "count  4.800000e+03    4800.000000  4800.000000  4.800000e+03  4800.000000   \n",
       "mean   2.906007e+07   56949.011667    21.505569  8.231205e+07   106.898125   \n",
       "std    4.073029e+07   88292.839372    31.822163  1.628950e+08    22.561593   \n",
       "min    0.000000e+00       5.000000     0.000372  0.000000e+00     0.000000   \n",
       "25%    8.000000e+05    9012.750000     4.682212  0.000000e+00    94.000000   \n",
       "50%    1.500000e+07   14623.500000    12.928897  1.918199e+07   103.000000   \n",
       "75%    4.000000e+07   58512.500000    28.350628  9.293886e+07   118.000000   \n",
       "max    3.800000e+08  447027.000000   875.581305  2.787965e+09   338.000000   \n",
       "\n",
       "       vote_average    vote_count  \n",
       "count   4800.000000   4800.000000  \n",
       "mean       6.094458    690.646875  \n",
       "std        1.188366   1234.852449  \n",
       "min        0.000000      0.000000  \n",
       "25%        5.600000     54.000000  \n",
       "50%        6.200000    236.000000  \n",
       "75%        6.800000    737.250000  \n",
       "max       10.000000  13752.000000  "
      ]
     },
     "execution_count": 14,
     "metadata": {},
     "output_type": "execute_result"
    }
   ],
   "source": [
    "# statistical summary of numerical columns\n",
    "movies.describe()"
   ]
  },
  {
   "cell_type": "markdown",
   "id": "fd14c3ef",
   "metadata": {},
   "source": [
    "As the table shown above, we can find outliers in `popularity` data, but according to the [forum](https://www.themoviedb.org/talk/5141d424760ee34da71431b0), the popularity score is measured by number of favourites and number of watched list etc, since it has no upperbond, I decided to retain the original data. Also, there are a lot of **zero number** in `budget` and `revenue` data, so is `runtime`. Didn't these movies be released? Look at the data in `release_date column`, I find all movies in the dataset are released because **the minimum value is 1960 and there is no null value for it**. So I assume the zero values in the `budget` and `revenue` are missing data. But under the risk that these zero values may be just small values, I preceed to take a look for some zero data content to decide whether it is just a missing value or small value."
   ]
  },
  {
   "cell_type": "markdown",
   "id": "407c945d",
   "metadata": {},
   "source": [
    "Let's take a look at some zero `budget` and `revenue` data"
   ]
  },
  {
   "cell_type": "code",
   "execution_count": null,
   "id": "54a95d27",
   "metadata": {},
   "outputs": [],
   "source": []
  },
  {
   "cell_type": "code",
   "execution_count": 15,
   "id": "ffa4be28",
   "metadata": {},
   "outputs": [
    {
     "data": {
      "text/html": [
       "<div>\n",
       "<style scoped>\n",
       "    .dataframe tbody tr th:only-of-type {\n",
       "        vertical-align: middle;\n",
       "    }\n",
       "\n",
       "    .dataframe tbody tr th {\n",
       "        vertical-align: top;\n",
       "    }\n",
       "\n",
       "    .dataframe thead th {\n",
       "        text-align: right;\n",
       "    }\n",
       "</style>\n",
       "<table border=\"1\" class=\"dataframe\">\n",
       "  <thead>\n",
       "    <tr style=\"text-align: right;\">\n",
       "      <th></th>\n",
       "      <th>budget</th>\n",
       "      <th>genres</th>\n",
       "      <th>id</th>\n",
       "      <th>popularity</th>\n",
       "      <th>production_countries</th>\n",
       "      <th>release_date</th>\n",
       "      <th>revenue</th>\n",
       "      <th>runtime</th>\n",
       "      <th>title</th>\n",
       "      <th>vote_average</th>\n",
       "      <th>vote_count</th>\n",
       "    </tr>\n",
       "  </thead>\n",
       "  <tbody>\n",
       "    <tr>\n",
       "      <th>265</th>\n",
       "      <td>0</td>\n",
       "      <td>[{\"id\": 35, \"name\": \"Comedy\"}, {\"id\": 14, \"nam...</td>\n",
       "      <td>10588</td>\n",
       "      <td>18.251129</td>\n",
       "      <td>[{\"iso_3166_1\": \"US\", \"name\": \"United States o...</td>\n",
       "      <td>2003-11-21</td>\n",
       "      <td>0</td>\n",
       "      <td>82.0</td>\n",
       "      <td>The Cat in the Hat</td>\n",
       "      <td>4.9</td>\n",
       "      <td>366</td>\n",
       "    </tr>\n",
       "    <tr>\n",
       "      <th>321</th>\n",
       "      <td>0</td>\n",
       "      <td>[{\"id\": 35, \"name\": \"Comedy\"}]</td>\n",
       "      <td>77953</td>\n",
       "      <td>16.460356</td>\n",
       "      <td>[{\"iso_3166_1\": \"US\", \"name\": \"United States o...</td>\n",
       "      <td>2012-08-09</td>\n",
       "      <td>104907746</td>\n",
       "      <td>85.0</td>\n",
       "      <td>The Campaign</td>\n",
       "      <td>5.6</td>\n",
       "      <td>578</td>\n",
       "    </tr>\n",
       "    <tr>\n",
       "      <th>359</th>\n",
       "      <td>0</td>\n",
       "      <td>[{\"id\": 12, \"name\": \"Adventure\"}, {\"id\": 16, \"...</td>\n",
       "      <td>258509</td>\n",
       "      <td>27.867368</td>\n",
       "      <td>[{\"iso_3166_1\": \"US\", \"name\": \"United States o...</td>\n",
       "      <td>2015-12-17</td>\n",
       "      <td>233755553</td>\n",
       "      <td>92.0</td>\n",
       "      <td>Alvin and the Chipmunks: The Road Chip</td>\n",
       "      <td>5.8</td>\n",
       "      <td>428</td>\n",
       "    </tr>\n",
       "    <tr>\n",
       "      <th>406</th>\n",
       "      <td>0</td>\n",
       "      <td>[{\"id\": 18, \"name\": \"Drama\"}, {\"id\": 16, \"name...</td>\n",
       "      <td>51052</td>\n",
       "      <td>19.836830</td>\n",
       "      <td>[{\"iso_3166_1\": \"US\", \"name\": \"United States o...</td>\n",
       "      <td>2011-02-22</td>\n",
       "      <td>0</td>\n",
       "      <td>97.0</td>\n",
       "      <td>Arthur Christmas</td>\n",
       "      <td>6.7</td>\n",
       "      <td>333</td>\n",
       "    </tr>\n",
       "    <tr>\n",
       "      <th>409</th>\n",
       "      <td>0</td>\n",
       "      <td>[{\"id\": 18, \"name\": \"Drama\"}, {\"id\": 10402, \"n...</td>\n",
       "      <td>16858</td>\n",
       "      <td>5.159407</td>\n",
       "      <td>[{\"iso_3166_1\": \"US\", \"name\": \"United States o...</td>\n",
       "      <td>1979-12-20</td>\n",
       "      <td>37823676</td>\n",
       "      <td>123.0</td>\n",
       "      <td>All That Jazz</td>\n",
       "      <td>7.3</td>\n",
       "      <td>85</td>\n",
       "    </tr>\n",
       "    <tr>\n",
       "      <th>...</th>\n",
       "      <td>...</td>\n",
       "      <td>...</td>\n",
       "      <td>...</td>\n",
       "      <td>...</td>\n",
       "      <td>...</td>\n",
       "      <td>...</td>\n",
       "      <td>...</td>\n",
       "      <td>...</td>\n",
       "      <td>...</td>\n",
       "      <td>...</td>\n",
       "      <td>...</td>\n",
       "    </tr>\n",
       "    <tr>\n",
       "      <th>4795</th>\n",
       "      <td>0</td>\n",
       "      <td>[{\"id\": 18, \"name\": \"Drama\"}]</td>\n",
       "      <td>124606</td>\n",
       "      <td>0.918116</td>\n",
       "      <td>[{\"iso_3166_1\": \"US\", \"name\": \"United States o...</td>\n",
       "      <td>1995-09-09</td>\n",
       "      <td>0</td>\n",
       "      <td>98.0</td>\n",
       "      <td>Bang</td>\n",
       "      <td>6.0</td>\n",
       "      <td>1</td>\n",
       "    </tr>\n",
       "    <tr>\n",
       "      <th>4797</th>\n",
       "      <td>0</td>\n",
       "      <td>[{\"id\": 10769, \"name\": \"Foreign\"}, {\"id\": 53, ...</td>\n",
       "      <td>67238</td>\n",
       "      <td>0.022173</td>\n",
       "      <td>[]</td>\n",
       "      <td>2005-03-12</td>\n",
       "      <td>0</td>\n",
       "      <td>80.0</td>\n",
       "      <td>Cavite</td>\n",
       "      <td>7.5</td>\n",
       "      <td>2</td>\n",
       "    </tr>\n",
       "    <tr>\n",
       "      <th>4800</th>\n",
       "      <td>0</td>\n",
       "      <td>[{\"id\": 35, \"name\": \"Comedy\"}, {\"id\": 18, \"nam...</td>\n",
       "      <td>231617</td>\n",
       "      <td>1.444476</td>\n",
       "      <td>[{\"iso_3166_1\": \"US\", \"name\": \"United States o...</td>\n",
       "      <td>2013-10-13</td>\n",
       "      <td>0</td>\n",
       "      <td>120.0</td>\n",
       "      <td>Signed, Sealed, Delivered</td>\n",
       "      <td>7.0</td>\n",
       "      <td>6</td>\n",
       "    </tr>\n",
       "    <tr>\n",
       "      <th>4801</th>\n",
       "      <td>0</td>\n",
       "      <td>[]</td>\n",
       "      <td>126186</td>\n",
       "      <td>0.857008</td>\n",
       "      <td>[{\"iso_3166_1\": \"US\", \"name\": \"United States o...</td>\n",
       "      <td>2012-05-03</td>\n",
       "      <td>0</td>\n",
       "      <td>98.0</td>\n",
       "      <td>Shanghai Calling</td>\n",
       "      <td>5.7</td>\n",
       "      <td>7</td>\n",
       "    </tr>\n",
       "    <tr>\n",
       "      <th>4802</th>\n",
       "      <td>0</td>\n",
       "      <td>[{\"id\": 99, \"name\": \"Documentary\"}]</td>\n",
       "      <td>25975</td>\n",
       "      <td>1.929883</td>\n",
       "      <td>[{\"iso_3166_1\": \"US\", \"name\": \"United States o...</td>\n",
       "      <td>2005-08-05</td>\n",
       "      <td>0</td>\n",
       "      <td>90.0</td>\n",
       "      <td>My Date with Drew</td>\n",
       "      <td>6.3</td>\n",
       "      <td>16</td>\n",
       "    </tr>\n",
       "  </tbody>\n",
       "</table>\n",
       "<p>1036 rows × 11 columns</p>\n",
       "</div>"
      ],
      "text/plain": [
       "      budget                                             genres      id  \\\n",
       "265        0  [{\"id\": 35, \"name\": \"Comedy\"}, {\"id\": 14, \"nam...   10588   \n",
       "321        0                     [{\"id\": 35, \"name\": \"Comedy\"}]   77953   \n",
       "359        0  [{\"id\": 12, \"name\": \"Adventure\"}, {\"id\": 16, \"...  258509   \n",
       "406        0  [{\"id\": 18, \"name\": \"Drama\"}, {\"id\": 16, \"name...   51052   \n",
       "409        0  [{\"id\": 18, \"name\": \"Drama\"}, {\"id\": 10402, \"n...   16858   \n",
       "...      ...                                                ...     ...   \n",
       "4795       0                      [{\"id\": 18, \"name\": \"Drama\"}]  124606   \n",
       "4797       0  [{\"id\": 10769, \"name\": \"Foreign\"}, {\"id\": 53, ...   67238   \n",
       "4800       0  [{\"id\": 35, \"name\": \"Comedy\"}, {\"id\": 18, \"nam...  231617   \n",
       "4801       0                                                 []  126186   \n",
       "4802       0                [{\"id\": 99, \"name\": \"Documentary\"}]   25975   \n",
       "\n",
       "      popularity                               production_countries  \\\n",
       "265    18.251129  [{\"iso_3166_1\": \"US\", \"name\": \"United States o...   \n",
       "321    16.460356  [{\"iso_3166_1\": \"US\", \"name\": \"United States o...   \n",
       "359    27.867368  [{\"iso_3166_1\": \"US\", \"name\": \"United States o...   \n",
       "406    19.836830  [{\"iso_3166_1\": \"US\", \"name\": \"United States o...   \n",
       "409     5.159407  [{\"iso_3166_1\": \"US\", \"name\": \"United States o...   \n",
       "...          ...                                                ...   \n",
       "4795    0.918116  [{\"iso_3166_1\": \"US\", \"name\": \"United States o...   \n",
       "4797    0.022173                                                 []   \n",
       "4800    1.444476  [{\"iso_3166_1\": \"US\", \"name\": \"United States o...   \n",
       "4801    0.857008  [{\"iso_3166_1\": \"US\", \"name\": \"United States o...   \n",
       "4802    1.929883  [{\"iso_3166_1\": \"US\", \"name\": \"United States o...   \n",
       "\n",
       "     release_date    revenue  runtime                                   title  \\\n",
       "265    2003-11-21          0     82.0                      The Cat in the Hat   \n",
       "321    2012-08-09  104907746     85.0                            The Campaign   \n",
       "359    2015-12-17  233755553     92.0  Alvin and the Chipmunks: The Road Chip   \n",
       "406    2011-02-22          0     97.0                        Arthur Christmas   \n",
       "409    1979-12-20   37823676    123.0                           All That Jazz   \n",
       "...           ...        ...      ...                                     ...   \n",
       "4795   1995-09-09          0     98.0                                    Bang   \n",
       "4797   2005-03-12          0     80.0                                  Cavite   \n",
       "4800   2013-10-13          0    120.0               Signed, Sealed, Delivered   \n",
       "4801   2012-05-03          0     98.0                        Shanghai Calling   \n",
       "4802   2005-08-05          0     90.0                       My Date with Drew   \n",
       "\n",
       "      vote_average  vote_count  \n",
       "265            4.9         366  \n",
       "321            5.6         578  \n",
       "359            5.8         428  \n",
       "406            6.7         333  \n",
       "409            7.3          85  \n",
       "...            ...         ...  \n",
       "4795           6.0           1  \n",
       "4797           7.5           2  \n",
       "4800           7.0           6  \n",
       "4801           5.7           7  \n",
       "4802           6.3          16  \n",
       "\n",
       "[1036 rows x 11 columns]"
      ]
     },
     "execution_count": 15,
     "metadata": {},
     "output_type": "execute_result"
    }
   ],
   "source": [
    "#finding order that made lowest budget\n",
    "movies[movies['budget']==movies['budget'].min()]\n"
   ]
  },
  {
   "cell_type": "markdown",
   "id": "eb1dfa1d",
   "metadata": {},
   "source": [
    "Among the `budget` data in zero values, I randomly choose _The cat in the hat_ and google search it. And I found it's [Wikipedia](https://en.wikipedia.org/wiki/The_Cat_in_the_Hat_(film)) page and there is **definitely a budget record of 109 billion**. Further more, I also find the same result for `revenue` data in zero value. So **I assume the zero value in revenue and budget column are missing**. Maybe I had better drop them out or set them as null values. Since if I include these quantification number in dateset, It will affect some statistics and the visualiation result in those question.\n",
    "\n",
    "To decide whether to drop them out or set them as null values, I count the number of the zero values in the two columns."
   ]
  },
  {
   "cell_type": "code",
   "execution_count": null,
   "id": "78084f18",
   "metadata": {},
   "outputs": [],
   "source": []
  },
  {
   "cell_type": "code",
   "execution_count": 16,
   "id": "423058ac",
   "metadata": {},
   "outputs": [
    {
     "data": {
      "text/plain": [
       "budget\n",
       "0    1036\n",
       "1       7\n",
       "Name: id, dtype: int64"
      ]
     },
     "execution_count": 16,
     "metadata": {},
     "output_type": "execute_result"
    }
   ],
   "source": [
    "#count zero values in budget data using groupby\n",
    "movies_budget_0count =  movies.groupby('budget').count()['id']\n",
    "movies_budget_0count.head(2)"
   ]
  },
  {
   "cell_type": "markdown",
   "id": "e4b7b435",
   "metadata": {},
   "source": [
    "I count the zero value in the `budget` cloumn and there are 1036 rows in zero value. In case I drop too many raw data to keep the data integrity, I decide to retain these rows and replace zero values with null values."
   ]
  },
  {
   "cell_type": "markdown",
   "id": "2b40adda",
   "metadata": {},
   "source": [
    "So does the `revenue` column."
   ]
  },
  {
   "cell_type": "code",
   "execution_count": 17,
   "id": "6e567fc9",
   "metadata": {},
   "outputs": [
    {
     "data": {
      "text/plain": [
       "revenue\n",
       "0    1424\n",
       "5       1\n",
       "Name: id, dtype: int64"
      ]
     },
     "execution_count": 17,
     "metadata": {},
     "output_type": "execute_result"
    }
   ],
   "source": [
    "#count zero values in revenue data using groupby\n",
    "movies_revenue_0count =  movies.groupby('revenue').count()['id']\n",
    "movies_revenue_0count.head(2)"
   ]
  },
  {
   "cell_type": "markdown",
   "id": "28c9d38f",
   "metadata": {},
   "source": [
    "It contains 1424 rows in zero values, so I also dicide to keep these rows and replace zero values with null values."
   ]
  },
  {
   "cell_type": "markdown",
   "id": "0397d322",
   "metadata": {},
   "source": [
    "* ### Finally, let's investigate the runtime column to decide whether drop zero or just replace it with null value.\n",
    "\n"
   ]
  },
  {
   "cell_type": "code",
   "execution_count": 18,
   "id": "ea2fb577",
   "metadata": {},
   "outputs": [
    {
     "data": {
      "text/plain": [
       "runtime\n",
       "0.0     34\n",
       "14.0     1\n",
       "Name: id, dtype: int64"
      ]
     },
     "execution_count": 18,
     "metadata": {},
     "output_type": "execute_result"
    }
   ],
   "source": [
    "#count zero values in runtime data using groupby\n",
    "movies_runtime_0count =  movies.groupby('runtime').count()['id']\n",
    "movies_runtime_0count.head(2)"
   ]
  },
  {
   "cell_type": "markdown",
   "id": "d375c6f1",
   "metadata": {},
   "source": [
    "It's just has a small number of zero value rows in runtime column, so I decide to drop them."
   ]
  },
  {
   "cell_type": "code",
   "execution_count": null,
   "id": "622d0e15",
   "metadata": {},
   "outputs": [],
   "source": []
  },
  {
   "cell_type": "markdown",
   "id": "1eeec52d",
   "metadata": {},
   "source": [
    "<a id='eda'></a>\n",
    "## Exploratory Data Analysis\n",
    "\n",
    "> **Tip**: Now that we've trimmed and cleaned our data, we're ready to move on to exploration. Compute statistics and create visualizations with the goal of addressing the research questions that you posed in the Introduction section. It is recommended that you be systematic with your approach. Look at one variable at a time, and then follow it up by looking at relationships between variables.\n"
   ]
  },
  {
   "cell_type": "code",
   "execution_count": null,
   "id": "ac394b14",
   "metadata": {},
   "outputs": [],
   "source": []
  },
  {
   "cell_type": "markdown",
   "id": "7f466cc2",
   "metadata": {},
   "source": [
    "### Research Question 1 : Which Movie Has The Highest Or Lowest Profit?"
   ]
  },
  {
   "cell_type": "code",
   "execution_count": 19,
   "id": "f3361e9e",
   "metadata": {},
   "outputs": [],
   "source": [
    "#calculate Profit for each of the movie\n",
    "#add a new column in the dataframe name 'Profit'\n",
    "movies['Profit'] = movies['revenue'] - movies['budget']"
   ]
  },
  {
   "cell_type": "code",
   "execution_count": 20,
   "id": "aa52f802",
   "metadata": {},
   "outputs": [
    {
     "name": "stdout",
     "output_type": "stream",
     "text": [
      "Movie Which Has Highest Profit :  Avatar\n",
      "Movie Which Has Lowest Profit  :  The Lone Ranger\n"
     ]
    },
    {
     "data": {
      "text/html": [
       "<div>\n",
       "<style scoped>\n",
       "    .dataframe tbody tr th:only-of-type {\n",
       "        vertical-align: middle;\n",
       "    }\n",
       "\n",
       "    .dataframe tbody tr th {\n",
       "        vertical-align: top;\n",
       "    }\n",
       "\n",
       "    .dataframe thead th {\n",
       "        text-align: right;\n",
       "    }\n",
       "</style>\n",
       "<table border=\"1\" class=\"dataframe\">\n",
       "  <thead>\n",
       "    <tr style=\"text-align: right;\">\n",
       "      <th></th>\n",
       "      <th>0</th>\n",
       "      <th>13</th>\n",
       "    </tr>\n",
       "  </thead>\n",
       "  <tbody>\n",
       "    <tr>\n",
       "      <th>budget</th>\n",
       "      <td>237000000</td>\n",
       "      <td>255000000</td>\n",
       "    </tr>\n",
       "    <tr>\n",
       "      <th>genres</th>\n",
       "      <td>[{\"id\": 28, \"name\": \"Action\"}, {\"id\": 12, \"nam...</td>\n",
       "      <td>[{\"id\": 28, \"name\": \"Action\"}, {\"id\": 12, \"nam...</td>\n",
       "    </tr>\n",
       "    <tr>\n",
       "      <th>id</th>\n",
       "      <td>19995</td>\n",
       "      <td>57201</td>\n",
       "    </tr>\n",
       "    <tr>\n",
       "      <th>popularity</th>\n",
       "      <td>150.437577</td>\n",
       "      <td>49.046956</td>\n",
       "    </tr>\n",
       "    <tr>\n",
       "      <th>production_countries</th>\n",
       "      <td>[{\"iso_3166_1\": \"US\", \"name\": \"United States o...</td>\n",
       "      <td>[{\"iso_3166_1\": \"US\", \"name\": \"United States o...</td>\n",
       "    </tr>\n",
       "    <tr>\n",
       "      <th>release_date</th>\n",
       "      <td>2009-12-10 00:00:00</td>\n",
       "      <td>2013-07-03 00:00:00</td>\n",
       "    </tr>\n",
       "    <tr>\n",
       "      <th>revenue</th>\n",
       "      <td>2787965087</td>\n",
       "      <td>89289910</td>\n",
       "    </tr>\n",
       "    <tr>\n",
       "      <th>runtime</th>\n",
       "      <td>162.0</td>\n",
       "      <td>149.0</td>\n",
       "    </tr>\n",
       "    <tr>\n",
       "      <th>title</th>\n",
       "      <td>Avatar</td>\n",
       "      <td>The Lone Ranger</td>\n",
       "    </tr>\n",
       "    <tr>\n",
       "      <th>vote_average</th>\n",
       "      <td>7.2</td>\n",
       "      <td>5.9</td>\n",
       "    </tr>\n",
       "    <tr>\n",
       "      <th>vote_count</th>\n",
       "      <td>11800</td>\n",
       "      <td>2311</td>\n",
       "    </tr>\n",
       "    <tr>\n",
       "      <th>Profit</th>\n",
       "      <td>2550965087</td>\n",
       "      <td>-165710090</td>\n",
       "    </tr>\n",
       "  </tbody>\n",
       "</table>\n",
       "</div>"
      ],
      "text/plain": [
       "                                                                     0   \\\n",
       "budget                                                        237000000   \n",
       "genres                [{\"id\": 28, \"name\": \"Action\"}, {\"id\": 12, \"nam...   \n",
       "id                                                                19995   \n",
       "popularity                                                   150.437577   \n",
       "production_countries  [{\"iso_3166_1\": \"US\", \"name\": \"United States o...   \n",
       "release_date                                        2009-12-10 00:00:00   \n",
       "revenue                                                      2787965087   \n",
       "runtime                                                           162.0   \n",
       "title                                                            Avatar   \n",
       "vote_average                                                        7.2   \n",
       "vote_count                                                        11800   \n",
       "Profit                                                       2550965087   \n",
       "\n",
       "                                                                     13  \n",
       "budget                                                        255000000  \n",
       "genres                [{\"id\": 28, \"name\": \"Action\"}, {\"id\": 12, \"nam...  \n",
       "id                                                                57201  \n",
       "popularity                                                    49.046956  \n",
       "production_countries  [{\"iso_3166_1\": \"US\", \"name\": \"United States o...  \n",
       "release_date                                        2013-07-03 00:00:00  \n",
       "revenue                                                        89289910  \n",
       "runtime                                                           149.0  \n",
       "title                                                   The Lone Ranger  \n",
       "vote_average                                                        5.9  \n",
       "vote_count                                                         2311  \n",
       "Profit                                                       -165710090  "
      ]
     },
     "execution_count": 20,
     "metadata": {},
     "output_type": "execute_result"
    }
   ],
   "source": [
    "#use the function 'idmin' to find the index of lowest profit movie.\n",
    "#use the function 'idmax' to find the index of Highest profit movie.\n",
    "#print the row related to this index.\n",
    "def find_minmax(x):\n",
    "    #use the function 'idmin' to find the index of lowest profit movie.\n",
    "    min_index = movies[x].idxmin()\n",
    "    #use the function 'idmax' to find the index of Highest profit movie.\n",
    "    high_index = movies[x].idxmax()\n",
    "    high = pd.DataFrame(movies.loc[high_index,:])\n",
    "    low = pd.DataFrame(movies.loc[min_index,:])\n",
    "    \n",
    "    #print the movie with high and low profit\n",
    "    print(\"Movie Which Has Highest \"+ x + \" : \",movies['title'][high_index])\n",
    "    print(\"Movie Which Has Lowest \"+ x + \"  : \",movies['title'][min_index])\n",
    "    return pd.concat([high,low],axis = 1)\n",
    "\n",
    "#call the find_minmax function.\n",
    "find_minmax('Profit')"
   ]
  },
  {
   "cell_type": "code",
   "execution_count": null,
   "id": "e5a0c434",
   "metadata": {},
   "outputs": [],
   "source": []
  },
  {
   "cell_type": "code",
   "execution_count": 22,
   "id": "159be1df",
   "metadata": {
    "scrolled": true
   },
   "outputs": [
    {
     "data": {
      "image/png": "[encoded data removed]",
      "text/plain": [
       "<Figure size 432x288 with 1 Axes>"
      ]
     },
     "metadata": {
      "needs_background": "light"
     },
     "output_type": "display_data"
    }
   ],
   "source": [
    "#make a plot which contain top 10 movies which earn highest profit.\n",
    "#sort the 'Profit' column in decending order and store it in the new dataframe,\n",
    "info = pd.DataFrame(movies['Profit'].sort_values(ascending = False))\n",
    "info['title'] = movies['title']\n",
    "data = list(map(str,(info['title'])))\n",
    "x = list(data[:10])\n",
    "y = list(info['Profit'][:10])\n",
    "\n",
    "#make a plot usinf pointplot for top 10 profitable movies.\n",
    "ax = sns.pointplot(x=y,y=x)\n",
    "\n",
    "#setup the figure size\n",
    "sns.set(rc={'figure.figsize':(10,5)})\n",
    "#setup the title and labels of the plot.\n",
    "ax.set_title(\"Top 10 Profitable Movies\",fontsize = 15)\n",
    "ax.set_xlabel(\"Profit\",fontsize = 15)\n",
    "sns.set_style(\"darkgrid\")"
   ]
  },
  {
   "cell_type": "markdown",
   "id": "62a61315",
   "metadata": {},
   "source": [
    "### Research Question 2 : Movie with Highest And Lowest Budget?"
   ]
  },
  {
   "cell_type": "code",
   "execution_count": null,
   "id": "619ef6d3",
   "metadata": {},
   "outputs": [],
   "source": []
  },
  {
   "cell_type": "code",
   "execution_count": 23,
   "id": "066a793f",
   "metadata": {},
   "outputs": [
    {
     "name": "stdout",
     "output_type": "stream",
     "text": [
      "Movie Which Has Highest budget :  Pirates of the Caribbean: On Stranger Tides\n",
      "Movie Which Has Lowest budget  :  Modern Times\n"
     ]
    },
    {
     "data": {
      "text/html": [
       "<div>\n",
       "<style scoped>\n",
       "    .dataframe tbody tr th:only-of-type {\n",
       "        vertical-align: middle;\n",
       "    }\n",
       "\n",
       "    .dataframe tbody tr th {\n",
       "        vertical-align: top;\n",
       "    }\n",
       "\n",
       "    .dataframe thead th {\n",
       "        text-align: right;\n",
       "    }\n",
       "</style>\n",
       "<table border=\"1\" class=\"dataframe\">\n",
       "  <thead>\n",
       "    <tr style=\"text-align: right;\">\n",
       "      <th></th>\n",
       "      <th>17</th>\n",
       "      <th>4238</th>\n",
       "    </tr>\n",
       "  </thead>\n",
       "  <tbody>\n",
       "    <tr>\n",
       "      <th>budget</th>\n",
       "      <td>380000000.0</td>\n",
       "      <td>1.0</td>\n",
       "    </tr>\n",
       "    <tr>\n",
       "      <th>genres</th>\n",
       "      <td>[{\"id\": 12, \"name\": \"Adventure\"}, {\"id\": 28, \"...</td>\n",
       "      <td>[{\"id\": 18, \"name\": \"Drama\"}, {\"id\": 35, \"name...</td>\n",
       "    </tr>\n",
       "    <tr>\n",
       "      <th>id</th>\n",
       "      <td>1865</td>\n",
       "      <td>3082</td>\n",
       "    </tr>\n",
       "    <tr>\n",
       "      <th>popularity</th>\n",
       "      <td>135.413856</td>\n",
       "      <td>28.27648</td>\n",
       "    </tr>\n",
       "    <tr>\n",
       "      <th>production_countries</th>\n",
       "      <td>[{\"iso_3166_1\": \"US\", \"name\": \"United States o...</td>\n",
       "      <td>[{\"iso_3166_1\": \"US\", \"name\": \"United States o...</td>\n",
       "    </tr>\n",
       "    <tr>\n",
       "      <th>release_date</th>\n",
       "      <td>2011-05-14 00:00:00</td>\n",
       "      <td>1936-02-05 00:00:00</td>\n",
       "    </tr>\n",
       "    <tr>\n",
       "      <th>revenue</th>\n",
       "      <td>1045713802</td>\n",
       "      <td>8500000</td>\n",
       "    </tr>\n",
       "    <tr>\n",
       "      <th>runtime</th>\n",
       "      <td>136.0</td>\n",
       "      <td>87.0</td>\n",
       "    </tr>\n",
       "    <tr>\n",
       "      <th>title</th>\n",
       "      <td>Pirates of the Caribbean: On Stranger Tides</td>\n",
       "      <td>Modern Times</td>\n",
       "    </tr>\n",
       "    <tr>\n",
       "      <th>vote_average</th>\n",
       "      <td>6.4</td>\n",
       "      <td>8.1</td>\n",
       "    </tr>\n",
       "    <tr>\n",
       "      <th>vote_count</th>\n",
       "      <td>4948</td>\n",
       "      <td>856</td>\n",
       "    </tr>\n",
       "    <tr>\n",
       "      <th>Profit</th>\n",
       "      <td>665713802</td>\n",
       "      <td>8499999</td>\n",
       "    </tr>\n",
       "  </tbody>\n",
       "</table>\n",
       "</div>"
      ],
      "text/plain": [
       "                                                                   17    \\\n",
       "budget                                                      380000000.0   \n",
       "genres                [{\"id\": 12, \"name\": \"Adventure\"}, {\"id\": 28, \"...   \n",
       "id                                                                 1865   \n",
       "popularity                                                   135.413856   \n",
       "production_countries  [{\"iso_3166_1\": \"US\", \"name\": \"United States o...   \n",
       "release_date                                        2011-05-14 00:00:00   \n",
       "revenue                                                      1045713802   \n",
       "runtime                                                           136.0   \n",
       "title                       Pirates of the Caribbean: On Stranger Tides   \n",
       "vote_average                                                        6.4   \n",
       "vote_count                                                         4948   \n",
       "Profit                                                        665713802   \n",
       "\n",
       "                                                                   4238  \n",
       "budget                                                              1.0  \n",
       "genres                [{\"id\": 18, \"name\": \"Drama\"}, {\"id\": 35, \"name...  \n",
       "id                                                                 3082  \n",
       "popularity                                                     28.27648  \n",
       "production_countries  [{\"iso_3166_1\": \"US\", \"name\": \"United States o...  \n",
       "release_date                                        1936-02-05 00:00:00  \n",
       "revenue                                                         8500000  \n",
       "runtime                                                            87.0  \n",
       "title                                                      Modern Times  \n",
       "vote_average                                                        8.1  \n",
       "vote_count                                                          856  \n",
       "Profit                                                          8499999  "
      ]
     },
     "execution_count": 23,
     "metadata": {},
     "output_type": "execute_result"
    }
   ],
   "source": [
    "#find the movie with highest and lowest budget.\n",
    "#use 'find_minmax' function which i made earlier.\n",
    "#make sure that movie with budget zero didn't affect the result.\n",
    "#so change the zero into NAN in budget column.\n",
    "movies['budget'] = movies['budget'].replace(0,np.NAN)\n",
    "find_minmax('budget')\n"
   ]
  },
  {
   "cell_type": "code",
   "execution_count": 24,
   "id": "602e8264",
   "metadata": {},
   "outputs": [
    {
     "data": {
      "image/png": "[encoded data removed]",
      "text/plain": [
       "<Figure size 720x360 with 1 Axes>"
      ]
     },
     "metadata": {},
     "output_type": "display_data"
    }
   ],
   "source": [
    "#make a plot which contain top 10 highest budget movies.\n",
    "#sort the 'budget' column in decending order and store it in the new dataframe.\n",
    "info = pd.DataFrame(movies['budget'].sort_values(ascending = False))\n",
    "info['title'] = movies['title']\n",
    "data = list(map(str,(info['title'])))\n",
    "\n",
    "#extract the top 10 budget movies data from the list and dataframe.\n",
    "x = list(data[:10])\n",
    "y = list(info['budget'][:10])\n",
    "\n",
    "#plot the figure and setup the title and labels.\n",
    "ax = sns.pointplot(x=y,y=x)\n",
    "sns.set(rc={'figure.figsize':(10,5)})\n",
    "ax.set_title(\"Top 10 High Budget Movies\",fontsize = 15)\n",
    "ax.set_xlabel(\"Budget\",fontsize = 13)\n",
    "sns.set_style(\"darkgrid\")"
   ]
  },
  {
   "cell_type": "code",
   "execution_count": null,
   "id": "6edf859c",
   "metadata": {},
   "outputs": [],
   "source": []
  },
  {
   "cell_type": "markdown",
   "id": "b4af2e0a",
   "metadata": {},
   "source": [
    "### Research Question 3 : Movie with Largest And Lowest Earned Revenue?"
   ]
  },
  {
   "cell_type": "code",
   "execution_count": 25,
   "id": "9eab5331",
   "metadata": {},
   "outputs": [
    {
     "name": "stdout",
     "output_type": "stream",
     "text": [
      "Movie Which Has Highest revenue :  Avatar\n",
      "Movie Which Has Lowest revenue  :  The Lovers\n"
     ]
    },
    {
     "data": {
      "text/html": [
       "<div>\n",
       "<style scoped>\n",
       "    .dataframe tbody tr th:only-of-type {\n",
       "        vertical-align: middle;\n",
       "    }\n",
       "\n",
       "    .dataframe tbody tr th {\n",
       "        vertical-align: top;\n",
       "    }\n",
       "\n",
       "    .dataframe thead th {\n",
       "        text-align: right;\n",
       "    }\n",
       "</style>\n",
       "<table border=\"1\" class=\"dataframe\">\n",
       "  <thead>\n",
       "    <tr style=\"text-align: right;\">\n",
       "      <th></th>\n",
       "      <th>0</th>\n",
       "      <th>83</th>\n",
       "    </tr>\n",
       "  </thead>\n",
       "  <tbody>\n",
       "    <tr>\n",
       "      <th>budget</th>\n",
       "      <td>237000000.0</td>\n",
       "      <td>27000000.0</td>\n",
       "    </tr>\n",
       "    <tr>\n",
       "      <th>genres</th>\n",
       "      <td>[{\"id\": 28, \"name\": \"Action\"}, {\"id\": 12, \"nam...</td>\n",
       "      <td>[{\"id\": 28, \"name\": \"Action\"}, {\"id\": 12, \"nam...</td>\n",
       "    </tr>\n",
       "    <tr>\n",
       "      <th>id</th>\n",
       "      <td>19995</td>\n",
       "      <td>79698</td>\n",
       "    </tr>\n",
       "    <tr>\n",
       "      <th>popularity</th>\n",
       "      <td>150.437577</td>\n",
       "      <td>2.418535</td>\n",
       "    </tr>\n",
       "    <tr>\n",
       "      <th>production_countries</th>\n",
       "      <td>[{\"iso_3166_1\": \"US\", \"name\": \"United States o...</td>\n",
       "      <td>[{\"iso_3166_1\": \"AU\", \"name\": \"Australia\"}, {\"...</td>\n",
       "    </tr>\n",
       "    <tr>\n",
       "      <th>release_date</th>\n",
       "      <td>2009-12-10 00:00:00</td>\n",
       "      <td>2015-02-13 00:00:00</td>\n",
       "    </tr>\n",
       "    <tr>\n",
       "      <th>revenue</th>\n",
       "      <td>2787965087</td>\n",
       "      <td>0</td>\n",
       "    </tr>\n",
       "    <tr>\n",
       "      <th>runtime</th>\n",
       "      <td>162.0</td>\n",
       "      <td>109.0</td>\n",
       "    </tr>\n",
       "    <tr>\n",
       "      <th>title</th>\n",
       "      <td>Avatar</td>\n",
       "      <td>The Lovers</td>\n",
       "    </tr>\n",
       "    <tr>\n",
       "      <th>vote_average</th>\n",
       "      <td>7.2</td>\n",
       "      <td>4.8</td>\n",
       "    </tr>\n",
       "    <tr>\n",
       "      <th>vote_count</th>\n",
       "      <td>11800</td>\n",
       "      <td>34</td>\n",
       "    </tr>\n",
       "    <tr>\n",
       "      <th>Profit</th>\n",
       "      <td>2550965087</td>\n",
       "      <td>-27000000</td>\n",
       "    </tr>\n",
       "  </tbody>\n",
       "</table>\n",
       "</div>"
      ],
      "text/plain": [
       "                                                                     0   \\\n",
       "budget                                                      237000000.0   \n",
       "genres                [{\"id\": 28, \"name\": \"Action\"}, {\"id\": 12, \"nam...   \n",
       "id                                                                19995   \n",
       "popularity                                                   150.437577   \n",
       "production_countries  [{\"iso_3166_1\": \"US\", \"name\": \"United States o...   \n",
       "release_date                                        2009-12-10 00:00:00   \n",
       "revenue                                                      2787965087   \n",
       "runtime                                                           162.0   \n",
       "title                                                            Avatar   \n",
       "vote_average                                                        7.2   \n",
       "vote_count                                                        11800   \n",
       "Profit                                                       2550965087   \n",
       "\n",
       "                                                                     83  \n",
       "budget                                                       27000000.0  \n",
       "genres                [{\"id\": 28, \"name\": \"Action\"}, {\"id\": 12, \"nam...  \n",
       "id                                                                79698  \n",
       "popularity                                                     2.418535  \n",
       "production_countries  [{\"iso_3166_1\": \"AU\", \"name\": \"Australia\"}, {\"...  \n",
       "release_date                                        2015-02-13 00:00:00  \n",
       "revenue                                                               0  \n",
       "runtime                                                           109.0  \n",
       "title                                                        The Lovers  \n",
       "vote_average                                                        4.8  \n",
       "vote_count                                                           34  \n",
       "Profit                                                        -27000000  "
      ]
     },
     "execution_count": 25,
     "metadata": {},
     "output_type": "execute_result"
    }
   ],
   "source": [
    "#find the movie with highest and lowest earned revenue\n",
    "#use 'find_minmax' function which i made earlier\n",
    "find_minmax('revenue')"
   ]
  },
  {
   "cell_type": "code",
   "execution_count": 26,
   "id": "8d33c322",
   "metadata": {},
   "outputs": [
    {
     "data": {
      "image/png": "[encoded data removed]",
      "text/plain": [
       "<Figure size 720x360 with 1 Axes>"
      ]
     },
     "metadata": {},
     "output_type": "display_data"
    }
   ],
   "source": [
    "#top 10 movies which made highest revenue.\n",
    "#sort the 'revenue' column in decending order and store it in the new dataframe.\n",
    "info = pd.DataFrame(movies['revenue'].sort_values(ascending = False))\n",
    "info['title'] = movies['title']\n",
    "data = list(map(str,(info['title'])))\n",
    "\n",
    "#extract the top 10 movies with high revenue data from the list and dataframe.\n",
    "x = list(data[:10])\n",
    "y = list(info['revenue'][:10])\n",
    "\n",
    "#make the point plot and setup the title and labels.\n",
    "ax = sns.pointplot(x=y,y=x)\n",
    "sns.set(rc={'figure.figsize':(10,5)})\n",
    "                              \n",
    "                              \n",
    "ax.set_title(\"Top 10 High Revenue Movies\",fontsize = 15)\n",
    "ax.set_xlabel(\"Revenue\",fontsize = 13)\n",
    "sns.set_style(\"darkgrid\")"
   ]
  },
  {
   "cell_type": "markdown",
   "id": "af385808",
   "metadata": {},
   "source": [
    "### Research Question 4 : Movie with Longest And Shortest Rintime?"
   ]
  },
  {
   "cell_type": "code",
   "execution_count": 27,
   "id": "5034b23a",
   "metadata": {},
   "outputs": [
    {
     "name": "stdout",
     "output_type": "stream",
     "text": [
      "Movie Which Has Highest runtime :  Carlos\n",
      "Movie Which Has Lowest runtime  :  Vessel\n"
     ]
    },
    {
     "data": {
      "text/html": [
       "<div>\n",
       "<style scoped>\n",
       "    .dataframe tbody tr th:only-of-type {\n",
       "        vertical-align: middle;\n",
       "    }\n",
       "\n",
       "    .dataframe tbody tr th {\n",
       "        vertical-align: top;\n",
       "    }\n",
       "\n",
       "    .dataframe thead th {\n",
       "        text-align: right;\n",
       "    }\n",
       "</style>\n",
       "<table border=\"1\" class=\"dataframe\">\n",
       "  <thead>\n",
       "    <tr style=\"text-align: right;\">\n",
       "      <th></th>\n",
       "      <th>2384</th>\n",
       "      <th>4466</th>\n",
       "    </tr>\n",
       "  </thead>\n",
       "  <tbody>\n",
       "    <tr>\n",
       "      <th>budget</th>\n",
       "      <td>18000000.0</td>\n",
       "      <td>NaN</td>\n",
       "    </tr>\n",
       "    <tr>\n",
       "      <th>genres</th>\n",
       "      <td>[{\"id\": 80, \"name\": \"Crime\"}, {\"id\": 18, \"name...</td>\n",
       "      <td>[{\"id\": 27, \"name\": \"Horror\"}, {\"id\": 878, \"na...</td>\n",
       "    </tr>\n",
       "    <tr>\n",
       "      <th>id</th>\n",
       "      <td>43434</td>\n",
       "      <td>211557</td>\n",
       "    </tr>\n",
       "    <tr>\n",
       "      <th>popularity</th>\n",
       "      <td>1.138383</td>\n",
       "      <td>0.322553</td>\n",
       "    </tr>\n",
       "    <tr>\n",
       "      <th>production_countries</th>\n",
       "      <td>[{\"iso_3166_1\": \"FR\", \"name\": \"France\"}, {\"iso...</td>\n",
       "      <td>[{\"iso_3166_1\": \"US\", \"name\": \"United States o...</td>\n",
       "    </tr>\n",
       "    <tr>\n",
       "      <th>release_date</th>\n",
       "      <td>2010-05-19 00:00:00</td>\n",
       "      <td>2012-10-28 00:00:00</td>\n",
       "    </tr>\n",
       "    <tr>\n",
       "      <th>revenue</th>\n",
       "      <td>871279</td>\n",
       "      <td>0</td>\n",
       "    </tr>\n",
       "    <tr>\n",
       "      <th>runtime</th>\n",
       "      <td>338.0</td>\n",
       "      <td>14.0</td>\n",
       "    </tr>\n",
       "    <tr>\n",
       "      <th>title</th>\n",
       "      <td>Carlos</td>\n",
       "      <td>Vessel</td>\n",
       "    </tr>\n",
       "    <tr>\n",
       "      <th>vote_average</th>\n",
       "      <td>6.7</td>\n",
       "      <td>5.9</td>\n",
       "    </tr>\n",
       "    <tr>\n",
       "      <th>vote_count</th>\n",
       "      <td>50</td>\n",
       "      <td>8</td>\n",
       "    </tr>\n",
       "    <tr>\n",
       "      <th>Profit</th>\n",
       "      <td>-17128721</td>\n",
       "      <td>0</td>\n",
       "    </tr>\n",
       "  </tbody>\n",
       "</table>\n",
       "</div>"
      ],
      "text/plain": [
       "                                                                   2384  \\\n",
       "budget                                                       18000000.0   \n",
       "genres                [{\"id\": 80, \"name\": \"Crime\"}, {\"id\": 18, \"name...   \n",
       "id                                                                43434   \n",
       "popularity                                                     1.138383   \n",
       "production_countries  [{\"iso_3166_1\": \"FR\", \"name\": \"France\"}, {\"iso...   \n",
       "release_date                                        2010-05-19 00:00:00   \n",
       "revenue                                                          871279   \n",
       "runtime                                                           338.0   \n",
       "title                                                            Carlos   \n",
       "vote_average                                                        6.7   \n",
       "vote_count                                                           50   \n",
       "Profit                                                        -17128721   \n",
       "\n",
       "                                                                   4466  \n",
       "budget                                                              NaN  \n",
       "genres                [{\"id\": 27, \"name\": \"Horror\"}, {\"id\": 878, \"na...  \n",
       "id                                                               211557  \n",
       "popularity                                                     0.322553  \n",
       "production_countries  [{\"iso_3166_1\": \"US\", \"name\": \"United States o...  \n",
       "release_date                                        2012-10-28 00:00:00  \n",
       "revenue                                                               0  \n",
       "runtime                                                            14.0  \n",
       "title                                                            Vessel  \n",
       "vote_average                                                        5.9  \n",
       "vote_count                                                            8  \n",
       "Profit                                                                0  "
      ]
     },
     "execution_count": 27,
     "metadata": {},
     "output_type": "execute_result"
    }
   ],
   "source": [
    "#find the movie with longest and shortest runtime.\n",
    "#use 'find_minmax' function which i made earlier by passsing 'runtime' as argument.\n",
    "#it can't be possible a movie with zero runtime,but dataset contain some data like this.\n",
    "#so update zero with NAN in runtime column.\n",
    "movies['runtime'] = movies['runtime'].replace(0,np.NAN)\n",
    "find_minmax('runtime')"
   ]
  },
  {
   "cell_type": "code",
   "execution_count": 28,
   "id": "923b2e26",
   "metadata": {},
   "outputs": [
    {
     "data": {
      "image/png": "[encoded data removed]",
      "text/plain": [
       "<Figure size 720x360 with 1 Axes>"
      ]
     },
     "metadata": {},
     "output_type": "display_data"
    }
   ],
   "source": [
    "#top 10 Movies With Longest runtime\n",
    "#sort the 'runtime' column in decending order and store it in the new dataframe.\n",
    "info = pd.DataFrame(movies['runtime'].sort_values(ascending = False))\n",
    "info['title'] = movies['title']\n",
    "data = list(map(str,(info['title'])))\n",
    "\n",
    "#extract the top 10 longest duraton movies data from the list and dataframe.\n",
    "x = list(data[:10])\n",
    "y = list(info['runtime'][:10])\n",
    "\n",
    "#make the point plot and setup the title and labels.\n",
    "ax = sns.pointplot(x=y,y=x)\n",
    "sns.set(rc={'figure.figsize':(10,5)})\n",
    "ax.set_title(\"Top 10 Longest Movies\",fontsize = 15)\n",
    "ax.set_xlabel(\"Runtime\",fontsize = 13)\n",
    "sns.set_style(\"darkgrid\")"
   ]
  },
  {
   "cell_type": "code",
   "execution_count": null,
   "id": "4363d3a8",
   "metadata": {
    "scrolled": true
   },
   "outputs": [],
   "source": [
    "\n"
   ]
  },
  {
   "cell_type": "markdown",
   "id": "079c4c81",
   "metadata": {},
   "source": [
    "### Research Question 5 : Movie with Highest And Lowest Votes?"
   ]
  },
  {
   "cell_type": "code",
   "execution_count": 29,
   "id": "2be48b26",
   "metadata": {},
   "outputs": [
    {
     "name": "stdout",
     "output_type": "stream",
     "text": [
      "Movie Which Has Highest vote_average :  Stiff Upper Lips\n",
      "Movie Which Has Lowest vote_average  :  Black Water Transit\n"
     ]
    },
    {
     "data": {
      "text/html": [
       "<div>\n",
       "<style scoped>\n",
       "    .dataframe tbody tr th:only-of-type {\n",
       "        vertical-align: middle;\n",
       "    }\n",
       "\n",
       "    .dataframe tbody tr th {\n",
       "        vertical-align: top;\n",
       "    }\n",
       "\n",
       "    .dataframe thead th {\n",
       "        text-align: right;\n",
       "    }\n",
       "</style>\n",
       "<table border=\"1\" class=\"dataframe\">\n",
       "  <thead>\n",
       "    <tr style=\"text-align: right;\">\n",
       "      <th></th>\n",
       "      <th>3519</th>\n",
       "      <th>1464</th>\n",
       "    </tr>\n",
       "  </thead>\n",
       "  <tbody>\n",
       "    <tr>\n",
       "      <th>budget</th>\n",
       "      <td>NaN</td>\n",
       "      <td>NaN</td>\n",
       "    </tr>\n",
       "    <tr>\n",
       "      <th>genres</th>\n",
       "      <td>[{\"id\": 35, \"name\": \"Comedy\"}]</td>\n",
       "      <td>[{\"id\": 18, \"name\": \"Drama\"}, {\"id\": 80, \"name...</td>\n",
       "    </tr>\n",
       "    <tr>\n",
       "      <th>id</th>\n",
       "      <td>89861</td>\n",
       "      <td>310706</td>\n",
       "    </tr>\n",
       "    <tr>\n",
       "      <th>popularity</th>\n",
       "      <td>0.356495</td>\n",
       "      <td>0.126738</td>\n",
       "    </tr>\n",
       "    <tr>\n",
       "      <th>production_countries</th>\n",
       "      <td>[{\"iso_3166_1\": \"GB\", \"name\": \"United Kingdom\"...</td>\n",
       "      <td>[{\"iso_3166_1\": \"US\", \"name\": \"United States o...</td>\n",
       "    </tr>\n",
       "    <tr>\n",
       "      <th>release_date</th>\n",
       "      <td>1998-06-12 00:00:00</td>\n",
       "      <td>2009-05-13 00:00:00</td>\n",
       "    </tr>\n",
       "    <tr>\n",
       "      <th>revenue</th>\n",
       "      <td>0</td>\n",
       "      <td>0</td>\n",
       "    </tr>\n",
       "    <tr>\n",
       "      <th>runtime</th>\n",
       "      <td>99.0</td>\n",
       "      <td>100.0</td>\n",
       "    </tr>\n",
       "    <tr>\n",
       "      <th>title</th>\n",
       "      <td>Stiff Upper Lips</td>\n",
       "      <td>Black Water Transit</td>\n",
       "    </tr>\n",
       "    <tr>\n",
       "      <th>vote_average</th>\n",
       "      <td>10.0</td>\n",
       "      <td>0.0</td>\n",
       "    </tr>\n",
       "    <tr>\n",
       "      <th>vote_count</th>\n",
       "      <td>1</td>\n",
       "      <td>0</td>\n",
       "    </tr>\n",
       "    <tr>\n",
       "      <th>Profit</th>\n",
       "      <td>0</td>\n",
       "      <td>0</td>\n",
       "    </tr>\n",
       "  </tbody>\n",
       "</table>\n",
       "</div>"
      ],
      "text/plain": [
       "                                                                   3519  \\\n",
       "budget                                                              NaN   \n",
       "genres                                   [{\"id\": 35, \"name\": \"Comedy\"}]   \n",
       "id                                                                89861   \n",
       "popularity                                                     0.356495   \n",
       "production_countries  [{\"iso_3166_1\": \"GB\", \"name\": \"United Kingdom\"...   \n",
       "release_date                                        1998-06-12 00:00:00   \n",
       "revenue                                                               0   \n",
       "runtime                                                            99.0   \n",
       "title                                                  Stiff Upper Lips   \n",
       "vote_average                                                       10.0   \n",
       "vote_count                                                            1   \n",
       "Profit                                                                0   \n",
       "\n",
       "                                                                   1464  \n",
       "budget                                                              NaN  \n",
       "genres                [{\"id\": 18, \"name\": \"Drama\"}, {\"id\": 80, \"name...  \n",
       "id                                                               310706  \n",
       "popularity                                                     0.126738  \n",
       "production_countries  [{\"iso_3166_1\": \"US\", \"name\": \"United States o...  \n",
       "release_date                                        2009-05-13 00:00:00  \n",
       "revenue                                                               0  \n",
       "runtime                                                           100.0  \n",
       "title                                               Black Water Transit  \n",
       "vote_average                                                        0.0  \n",
       "vote_count                                                            0  \n",
       "Profit                                                                0  "
      ]
     },
     "execution_count": 29,
     "metadata": {},
     "output_type": "execute_result"
    }
   ],
   "source": [
    "#find the movie with most and least votes.\n",
    "#use 'find_minmax' function which i made earlier by passsing 'Vote_average' as argument.\n",
    "find_minmax('vote_average')"
   ]
  },
  {
   "cell_type": "code",
   "execution_count": 30,
   "id": "93fb233b",
   "metadata": {},
   "outputs": [
    {
     "data": {
      "image/png": "[encoded data removed]",
      "text/plain": [
       "<Figure size 720x360 with 1 Axes>"
      ]
     },
     "metadata": {},
     "output_type": "display_data"
    }
   ],
   "source": [
    "#top 10 highets rated movies.\n",
    "#sort the 'vote_average' column in decending order and store it in the new dataframe.\n",
    "info = pd.DataFrame(movies['vote_average'].sort_values(ascending = False))\n",
    "info['title'] = movies['title']\n",
    "data = list(map(str,(info['title'])))\n",
    "\n",
    "##extract the top 10 highly rated movies data from the list and dataframe.\n",
    "x = list(data[:10])\n",
    "y = list(info['vote_average'][:10])\n",
    "\n",
    "#make the point plot and setup the title and labels.\n",
    "ax = sns.pointplot(x=y,y=x)\n",
    "sns.set(rc={'figure.figsize':(10,5)})\n",
    "ax.set_title(\"Top 10 Highest Rated Movies\",fontsize = 15)\n",
    "ax.set_xlabel(\"Vote Average\",fontsize = 13)\n",
    "#setup the stylesheet\n",
    "sns.set_style(\"darkgrid\")"
   ]
  },
  {
   "cell_type": "code",
   "execution_count": null,
   "id": "529a4fb0",
   "metadata": {},
   "outputs": [],
   "source": []
  },
  {
   "cell_type": "markdown",
   "id": "bdf33d71",
   "metadata": {},
   "source": [
    "### Research Question 7 : Which length movies most liked by the audiences according to their popularity?"
   ]
  },
  {
   "cell_type": "code",
   "execution_count": 31,
   "id": "5b84a5bd",
   "metadata": {},
   "outputs": [
    {
     "data": {
      "image/png": "[encoded data removed]",
      "text/plain": [
       "<Figure size 1224x360 with 1 Axes>"
      ]
     },
     "metadata": {},
     "output_type": "display_data"
    }
   ],
   "source": [
    "#use groupby function and group the data according to their runtime.\n",
    "#make a plot using their popularity and find which length movies are most popular.\n",
    "\n",
    "#make the group of the data according to their runtime and find the mean popularity related to this and plot.\n",
    "movies.groupby('runtime')['popularity'].mean().plot(figsize = (17,5),xticks=np.arange(0,1000,100))\n",
    "\n",
    "#setup the title of the figure\n",
    "plt.title(\"Runtime Vs Popularity\",fontsize = 14)\n",
    "\n",
    "#setup the x-label and y-label of the plot.\n",
    "plt.xlabel('Runtime',fontsize = 13)\n",
    "plt.ylabel('Average Popularity',fontsize = 13)\n",
    "\n",
    "#setup the figure size.\n",
    "sns.set(rc={'figure.figsize':(10,5)})\n",
    "sns.set_style(\"whitegrid\")"
   ]
  },
  {
   "cell_type": "markdown",
   "id": "995fcc1e",
   "metadata": {},
   "source": [
    "> **According to the plot we can say that movies in the range of 100-200 runtime are more popular than other runtime movies. Because it is boring to see the long duration movies.**  "
   ]
  },
  {
   "cell_type": "code",
   "execution_count": null,
   "id": "360533e8",
   "metadata": {},
   "outputs": [],
   "source": []
  },
  {
   "cell_type": "code",
   "execution_count": 32,
   "id": "fb989fd8",
   "metadata": {},
   "outputs": [
    {
     "name": "stdout",
     "output_type": "stream",
     "text": [
      "Correlation Between Revenue And Budget :  0.7053993306781386\n"
     ]
    },
    {
     "data": {
      "image/png": "[encoded data removed]",
      "text/plain": [
       "<Figure size 720x360 with 1 Axes>"
      ]
     },
     "metadata": {},
     "output_type": "display_data"
    }
   ],
   "source": [
    "#how does revenue change according to their budget.\n",
    "#make a scatter plot using 'regplot' between ''revenue' and 'budget'.\n",
    "ax = sns.regplot(x=movies['revenue'], y=movies['budget'],color='c')\n",
    "\n",
    "#set the title and labels of the figure\n",
    "ax.set_title(\"Revenue Vs Budget\",fontsize=13)\n",
    "ax.set_xlabel(\"Revenue\",fontsize=12)\n",
    "ax.set_ylabel(\"Budget\",fontsize=12)\n",
    "#set the figure size\n",
    "sns.set(rc={'figure.figsize':(6,4)})\n",
    "sns.set_style(\"whitegrid\")\n",
    "\n",
    "#find the correlation between them\n",
    "#change zero into NAN in budget and revenue column for the exact calculation.\n",
    "movies['budget'] = movies['budget'].replace(0,np.NAN)\n",
    "movies['revenue'] = movies['revenue'].replace(0,np.NAN)\n",
    "movies['Profit'] = movies['Profit'].replace(0,np.NAN)\n",
    "\n",
    "#find the correlation using 'corr()' function.\n",
    "#it returns a dataframe which contain the correlation between all the numeric columns.\n",
    "data_corr = movies.corr()\n",
    "print(\"Correlation Between Revenue And Budget : \",data_corr.loc['revenue','budget'])"
   ]
  },
  {
   "cell_type": "code",
   "execution_count": 33,
   "id": "5bd0d79b",
   "metadata": {},
   "outputs": [
    {
     "name": "stdout",
     "output_type": "stream",
     "text": [
      "Correlation Between Profit And Budget :  0.5547883633987695\n"
     ]
    },
    {
     "data": {
      "image/png": "[encoded data removed]",
      "text/plain": [
       "<Figure size 432x288 with 1 Axes>"
      ]
     },
     "metadata": {},
     "output_type": "display_data"
    }
   ],
   "source": [
    "#how does profit change according to their budget.\n",
    "#make a scatter plot using 'regplot' between 'profit' and 'budget'.\n",
    "ax = sns.regplot(x=movies['Profit'], y=movies['budget'],color='c')\n",
    "\n",
    "#setup the title and the labels of the plot.\n",
    "ax.set_title(\"Profit Vs Budget\",fontsize=13)\n",
    "ax.set_xlabel(\"Profit\",fontsize=12)\n",
    "ax.set_ylabel(\"Budget\",fontsize=12)\n",
    "\n",
    "#setup the figure size and style sheet of the plot.\n",
    "sns.set(rc={'figure.figsize':(6,4)})\n",
    "sns.set_style(\"whitegrid\")\n",
    "\n",
    "#print the correction between them,which was stored in 'data_corr' dataframe earlier.\n",
    "print(\"Correlation Between Profit And Budget : \",data_corr.loc['Profit','budget'])"
   ]
  },
  {
   "cell_type": "code",
   "execution_count": null,
   "id": "d22ef050",
   "metadata": {},
   "outputs": [],
   "source": []
  },
  {
   "cell_type": "code",
   "execution_count": 34,
   "id": "cc0bd7a7",
   "metadata": {
    "scrolled": true
   },
   "outputs": [
    {
     "name": "stdout",
     "output_type": "stream",
     "text": [
      "Correlation Between Popularity And Profit :  0.6046125065021744\n"
     ]
    },
    {
     "data": {
      "image/png": "[encoded data removed]",
      "text/plain": [
       "<Figure size 432x288 with 1 Axes>"
      ]
     },
     "metadata": {},
     "output_type": "display_data"
    }
   ],
   "source": [
    "#how does vote average(ratings) change according to the release year.\n",
    "#make a scatter plot using 'regplot' between 'year' and 'vote average'.\n",
    "ax = sns.regplot(x=movies['popularity'],y=movies['Profit'],color='c')\n",
    "\n",
    "#setup the title and the labels of the scatter plot.\n",
    "ax.set_title(\"Popularity Vs Profit\",fontsize=13)\n",
    "ax.set_xlabel(\"Popularity\",fontsize=12)\n",
    "ax.set_ylabel(\"Profit\",fontsize=12)\n",
    "\n",
    "#setup the figure size.\n",
    "sns.set(rc={'figure.figsize':(6,4)})\n",
    "sns.set_style(\"whitegrid\")\n",
    "\n",
    "#find the correlation between them.\n",
    "print(\"Correlation Between Popularity And Profit : \",data_corr.loc['popularity','Profit'])"
   ]
  },
  {
   "cell_type": "markdown",
   "id": "6e0b7f4c",
   "metadata": {},
   "source": [
    "> ** These Are Estimated Values They Can Be Differ.** \n",
    "- **1. Budget vs Revenue  :**  Budget and revenue both have **positive correlation(0.71)** between them. Means there is a good possibility that movies with higher investments result in better revenues.\n",
    "- **2. Profit Vs Budget  : **  Profit And Budget both have **positive correlation(0.55)** between them. Means there is a good possibility that movies with higher investments result in better Profit.\n",
    "- **3. Popularity Vs Profit : ** Popularity and profit have **positive correlation(0.60)**. It means that movie with high popularity tends to earn high profit.\n"
   ]
  },
  {
   "cell_type": "code",
   "execution_count": null,
   "id": "f306fc51",
   "metadata": {},
   "outputs": [],
   "source": []
  },
  {
   "cell_type": "code",
   "execution_count": null,
   "id": "caa06964",
   "metadata": {},
   "outputs": [],
   "source": []
  },
  {
   "cell_type": "markdown",
   "id": "c4b9680b",
   "metadata": {},
   "source": [
    "# Further-Analysis"
   ]
  },
  {
   "cell_type": "code",
   "execution_count": null,
   "id": "8ae41ff7",
   "metadata": {},
   "outputs": [],
   "source": []
  },
  {
   "cell_type": "markdown",
   "id": "4cd3004c",
   "metadata": {},
   "source": [
    "### Popularity, Vote Average and Vote Count\n",
    "\n",
    "In this section, we will work with metrics provided to us by the dataset. We will try to gain a deeper understanding of the popularity, vote average and vote count features and try and deduce any relationships between them as well as other numeric features such as budget and revenue."
   ]
  },
  {
   "cell_type": "code",
   "execution_count": 35,
   "id": "ad9332eb",
   "metadata": {},
   "outputs": [],
   "source": [
    "def clean_numeric(x):\n",
    "    try:\n",
    "        return float(x)\n",
    "    except:\n",
    "        return np.nan"
   ]
  },
  {
   "cell_type": "code",
   "execution_count": 36,
   "id": "1fd09174",
   "metadata": {},
   "outputs": [],
   "source": [
    "movies['popularity'] = movies['popularity'].apply(clean_numeric).astype('float')\n",
    "movies['vote_count'] = movies['vote_count'].apply(clean_numeric).astype('float')\n",
    "movies['vote_average'] = movies['vote_average'].apply(clean_numeric).astype('float')"
   ]
  },
  {
   "cell_type": "markdown",
   "id": "562ed079",
   "metadata": {},
   "source": [
    "Let us examine the summary statistics and the distribution of each feature one by one."
   ]
  },
  {
   "cell_type": "code",
   "execution_count": 37,
   "id": "537395bc",
   "metadata": {},
   "outputs": [
    {
     "data": {
      "text/plain": [
       "count    4800.000000\n",
       "mean       21.505569\n",
       "std        31.822163\n",
       "min         0.000372\n",
       "25%         4.682212\n",
       "50%        12.928897\n",
       "75%        28.350628\n",
       "max       875.581305\n",
       "Name: popularity, dtype: float64"
      ]
     },
     "execution_count": 37,
     "metadata": {},
     "output_type": "execute_result"
    }
   ],
   "source": [
    "#popularity statistical summary\n",
    "movies['popularity'].describe()"
   ]
  },
  {
   "cell_type": "code",
   "execution_count": 38,
   "id": "05dcaa08",
   "metadata": {},
   "outputs": [
    {
     "data": {
      "image/png": "[encoded data removed]",
      "text/plain": [
       "<Figure size 432x288 with 1 Axes>"
      ]
     },
     "metadata": {},
     "output_type": "display_data"
    }
   ],
   "source": [
    "#plotting popularity using median\n",
    "sns.distplot(movies['popularity'].fillna(movies['popularity'].median()))\n",
    "plt.show()"
   ]
  },
  {
   "cell_type": "markdown",
   "id": "80443545",
   "metadata": {},
   "source": [
    "# Years"
   ]
  },
  {
   "cell_type": "markdown",
   "id": "e6518d94",
   "metadata": {},
   "source": [
    "In the dataset,year column was not provided; we can find lambda function to extract year from release_date for further insights."
   ]
  },
  {
   "cell_type": "code",
   "execution_count": 40,
   "id": "8e0353b0",
   "metadata": {},
   "outputs": [],
   "source": [
    "\n",
    "#using lambda function to create a year column.\n",
    "movies['year'] = pd.to_datetime(movies['release_date'], errors='coerce').apply(lambda x: str(x).split('-')[0] if x != np.nan else np.nan)"
   ]
  },
  {
   "cell_type": "code",
   "execution_count": 90,
   "id": "42e25ea1",
   "metadata": {},
   "outputs": [
    {
     "data": {
      "text/plain": [
       "0    2009\n",
       "1    2007\n",
       "2    2015\n",
       "3    2012\n",
       "4    2012\n",
       "5    2007\n",
       "6    2010\n",
       "7    2015\n",
       "8    2009\n",
       "9    2016\n",
       "Name: year, dtype: object"
      ]
     },
     "execution_count": 90,
     "metadata": {},
     "output_type": "execute_result"
    }
   ],
   "source": [
    "movies['year'].head(10)"
   ]
  },
  {
   "cell_type": "markdown",
   "id": "691d31af",
   "metadata": {},
   "source": [
    "#### Most Popular Movies by Popularity Score"
   ]
  },
  {
   "cell_type": "code",
   "execution_count": 91,
   "id": "93fd31f3",
   "metadata": {},
   "outputs": [
    {
     "data": {
      "text/html": [
       "<div>\n",
       "<style scoped>\n",
       "    .dataframe tbody tr th:only-of-type {\n",
       "        vertical-align: middle;\n",
       "    }\n",
       "\n",
       "    .dataframe tbody tr th {\n",
       "        vertical-align: top;\n",
       "    }\n",
       "\n",
       "    .dataframe thead th {\n",
       "        text-align: right;\n",
       "    }\n",
       "</style>\n",
       "<table border=\"1\" class=\"dataframe\">\n",
       "  <thead>\n",
       "    <tr style=\"text-align: right;\">\n",
       "      <th></th>\n",
       "      <th>title</th>\n",
       "      <th>popularity</th>\n",
       "      <th>year</th>\n",
       "    </tr>\n",
       "  </thead>\n",
       "  <tbody>\n",
       "    <tr>\n",
       "      <th>546</th>\n",
       "      <td>Minions</td>\n",
       "      <td>875.581305</td>\n",
       "      <td>2015</td>\n",
       "    </tr>\n",
       "    <tr>\n",
       "      <th>95</th>\n",
       "      <td>Interstellar</td>\n",
       "      <td>724.247784</td>\n",
       "      <td>2014</td>\n",
       "    </tr>\n",
       "    <tr>\n",
       "      <th>788</th>\n",
       "      <td>Deadpool</td>\n",
       "      <td>514.569956</td>\n",
       "      <td>2016</td>\n",
       "    </tr>\n",
       "    <tr>\n",
       "      <th>94</th>\n",
       "      <td>Guardians of the Galaxy</td>\n",
       "      <td>481.098624</td>\n",
       "      <td>2014</td>\n",
       "    </tr>\n",
       "    <tr>\n",
       "      <th>127</th>\n",
       "      <td>Mad Max: Fury Road</td>\n",
       "      <td>434.278564</td>\n",
       "      <td>2015</td>\n",
       "    </tr>\n",
       "    <tr>\n",
       "      <th>28</th>\n",
       "      <td>Jurassic World</td>\n",
       "      <td>418.708552</td>\n",
       "      <td>2015</td>\n",
       "    </tr>\n",
       "    <tr>\n",
       "      <th>199</th>\n",
       "      <td>Pirates of the Caribbean: The Curse of the Bla...</td>\n",
       "      <td>271.972889</td>\n",
       "      <td>2003</td>\n",
       "    </tr>\n",
       "    <tr>\n",
       "      <th>82</th>\n",
       "      <td>Dawn of the Planet of the Apes</td>\n",
       "      <td>243.791743</td>\n",
       "      <td>2014</td>\n",
       "    </tr>\n",
       "    <tr>\n",
       "      <th>200</th>\n",
       "      <td>The Hunger Games: Mockingjay - Part 1</td>\n",
       "      <td>206.227151</td>\n",
       "      <td>2014</td>\n",
       "    </tr>\n",
       "    <tr>\n",
       "      <th>88</th>\n",
       "      <td>Big Hero 6</td>\n",
       "      <td>203.734590</td>\n",
       "      <td>2014</td>\n",
       "    </tr>\n",
       "  </tbody>\n",
       "</table>\n",
       "</div>"
      ],
      "text/plain": [
       "                                                 title  popularity  year\n",
       "546                                            Minions  875.581305  2015\n",
       "95                                        Interstellar  724.247784  2014\n",
       "788                                           Deadpool  514.569956  2016\n",
       "94                             Guardians of the Galaxy  481.098624  2014\n",
       "127                                 Mad Max: Fury Road  434.278564  2015\n",
       "28                                      Jurassic World  418.708552  2015\n",
       "199  Pirates of the Caribbean: The Curse of the Bla...  271.972889  2003\n",
       "82                      Dawn of the Planet of the Apes  243.791743  2014\n",
       "200              The Hunger Games: Mockingjay - Part 1  206.227151  2014\n",
       "88                                          Big Hero 6  203.734590  2014"
      ]
     },
     "execution_count": 91,
     "metadata": {},
     "output_type": "execute_result"
    }
   ],
   "source": [
    "movies[['title', 'popularity', 'year']].sort_values('popularity', ascending=False).head(10)"
   ]
  },
  {
   "cell_type": "markdown",
   "id": "cf2f8915",
   "metadata": {},
   "source": [
    "**Minions** is the most popular movie by the TMDB Popularity Score. **Interstellar** and **Deadpool**, two extremely successful woman centric movies come in second and third respectively."
   ]
  },
  {
   "cell_type": "code",
   "execution_count": 92,
   "id": "0f2f1ce9",
   "metadata": {},
   "outputs": [
    {
     "data": {
      "text/plain": [
       "count     4800.000000\n",
       "mean       690.646875\n",
       "std       1234.852449\n",
       "min          0.000000\n",
       "25%         54.000000\n",
       "50%        236.000000\n",
       "75%        737.250000\n",
       "max      13752.000000\n",
       "Name: vote_count, dtype: float64"
      ]
     },
     "execution_count": 92,
     "metadata": {},
     "output_type": "execute_result"
    }
   ],
   "source": [
    "movies['vote_count'].describe()"
   ]
  },
  {
   "cell_type": "markdown",
   "id": "49b9531f",
   "metadata": {},
   "source": [
    "As with popularity scores, the distribution of vote counts is extremely skewed with the median vote count standing at a paltry 10 votes. The most votes a single movie has got stands at 13,752.Votes, therefore, are not as potent and suggestive as its Counterpart. Nevertheless, let us check which the most voted on movies on the website are."
   ]
  },
  {
   "cell_type": "markdown",
   "id": "eff31dd2",
   "metadata": {},
   "source": [
    "#### Most Voted on Movies"
   ]
  },
  {
   "cell_type": "code",
   "execution_count": 93,
   "id": "61b11295",
   "metadata": {},
   "outputs": [
    {
     "data": {
      "text/html": [
       "<div>\n",
       "<style scoped>\n",
       "    .dataframe tbody tr th:only-of-type {\n",
       "        vertical-align: middle;\n",
       "    }\n",
       "\n",
       "    .dataframe tbody tr th {\n",
       "        vertical-align: top;\n",
       "    }\n",
       "\n",
       "    .dataframe thead th {\n",
       "        text-align: right;\n",
       "    }\n",
       "</style>\n",
       "<table border=\"1\" class=\"dataframe\">\n",
       "  <thead>\n",
       "    <tr style=\"text-align: right;\">\n",
       "      <th></th>\n",
       "      <th>title</th>\n",
       "      <th>vote_count</th>\n",
       "      <th>year</th>\n",
       "    </tr>\n",
       "  </thead>\n",
       "  <tbody>\n",
       "    <tr>\n",
       "      <th>96</th>\n",
       "      <td>Inception</td>\n",
       "      <td>13752.0</td>\n",
       "      <td>2010</td>\n",
       "    </tr>\n",
       "    <tr>\n",
       "      <th>65</th>\n",
       "      <td>The Dark Knight</td>\n",
       "      <td>12002.0</td>\n",
       "      <td>2008</td>\n",
       "    </tr>\n",
       "    <tr>\n",
       "      <th>0</th>\n",
       "      <td>Avatar</td>\n",
       "      <td>11800.0</td>\n",
       "      <td>2009</td>\n",
       "    </tr>\n",
       "    <tr>\n",
       "      <th>16</th>\n",
       "      <td>The Avengers</td>\n",
       "      <td>11776.0</td>\n",
       "      <td>2012</td>\n",
       "    </tr>\n",
       "    <tr>\n",
       "      <th>788</th>\n",
       "      <td>Deadpool</td>\n",
       "      <td>10995.0</td>\n",
       "      <td>2016</td>\n",
       "    </tr>\n",
       "    <tr>\n",
       "      <th>95</th>\n",
       "      <td>Interstellar</td>\n",
       "      <td>10867.0</td>\n",
       "      <td>2014</td>\n",
       "    </tr>\n",
       "    <tr>\n",
       "      <th>287</th>\n",
       "      <td>Django Unchained</td>\n",
       "      <td>10099.0</td>\n",
       "      <td>2012</td>\n",
       "    </tr>\n",
       "    <tr>\n",
       "      <th>94</th>\n",
       "      <td>Guardians of the Galaxy</td>\n",
       "      <td>9742.0</td>\n",
       "      <td>2014</td>\n",
       "    </tr>\n",
       "    <tr>\n",
       "      <th>426</th>\n",
       "      <td>The Hunger Games</td>\n",
       "      <td>9455.0</td>\n",
       "      <td>2012</td>\n",
       "    </tr>\n",
       "    <tr>\n",
       "      <th>127</th>\n",
       "      <td>Mad Max: Fury Road</td>\n",
       "      <td>9427.0</td>\n",
       "      <td>2015</td>\n",
       "    </tr>\n",
       "  </tbody>\n",
       "</table>\n",
       "</div>"
      ],
      "text/plain": [
       "                       title  vote_count  year\n",
       "96                 Inception     13752.0  2010\n",
       "65           The Dark Knight     12002.0  2008\n",
       "0                     Avatar     11800.0  2009\n",
       "16              The Avengers     11776.0  2012\n",
       "788                 Deadpool     10995.0  2016\n",
       "95              Interstellar     10867.0  2014\n",
       "287         Django Unchained     10099.0  2012\n",
       "94   Guardians of the Galaxy      9742.0  2014\n",
       "426         The Hunger Games      9455.0  2012\n",
       "127       Mad Max: Fury Road      9427.0  2015"
      ]
     },
     "execution_count": 93,
     "metadata": {},
     "output_type": "execute_result"
    }
   ],
   "source": [
    "movies[['title', 'vote_count', 'year']].sort_values('vote_count', ascending=False).head(10)"
   ]
  },
  {
   "cell_type": "markdown",
   "id": "688b3d76",
   "metadata": {},
   "source": [
    "**Inception** and **The Dark Knight**, two critically acclaimed and commercially successful."
   ]
  },
  {
   "cell_type": "code",
   "execution_count": 94,
   "id": "26fff681",
   "metadata": {},
   "outputs": [
    {
     "data": {
      "text/plain": [
       "count    4739.000000\n",
       "mean        6.172906\n",
       "std         0.972648\n",
       "min         0.500000\n",
       "25%         5.600000\n",
       "50%         6.200000\n",
       "75%         6.800000\n",
       "max        10.000000\n",
       "Name: vote_average, dtype: float64"
      ]
     },
     "execution_count": 94,
     "metadata": {},
     "output_type": "execute_result"
    }
   ],
   "source": [
    "movies['vote_average'] = movies['vote_average'].replace(0, np.nan)\n",
    "movies['vote_average'].describe()"
   ]
  },
  {
   "cell_type": "code",
   "execution_count": 95,
   "id": "3fda9740",
   "metadata": {},
   "outputs": [
    {
     "data": {
      "text/plain": [
       "<AxesSubplot:xlabel='vote_average', ylabel='Density'>"
      ]
     },
     "execution_count": 95,
     "metadata": {},
     "output_type": "execute_result"
    },
    {
     "data": {
      "image/png": "[encoded data removed]",
      "text/plain": [
       "<Figure size 432x288 with 1 Axes>"
      ]
     },
     "metadata": {},
     "output_type": "display_data"
    }
   ],
   "source": [
    "sns.distplot(movies['vote_average'].fillna(movies['vote_average'].median()))"
   ]
  },
  {
   "cell_type": "markdown",
   "id": "97d86218",
   "metadata": {},
   "source": [
    "It appears that Users are extremely strict in their ratings. The mean rating is only a **5.6** on a scale of 10. Half the movies have a rating of less than or equal to 6. Let us check what the most critically acclaimed movies a. We will only consider those movies that have more than 2000 votes (similar to IMDB's criteria of 5000 votes in selecting its top 250)."
   ]
  },
  {
   "cell_type": "markdown",
   "id": "c59234b8",
   "metadata": {},
   "source": [
    "#### Most Critically Acclaimed Movies"
   ]
  },
  {
   "cell_type": "code",
   "execution_count": 96,
   "id": "9104b566",
   "metadata": {},
   "outputs": [
    {
     "data": {
      "text/html": [
       "<div>\n",
       "<style scoped>\n",
       "    .dataframe tbody tr th:only-of-type {\n",
       "        vertical-align: middle;\n",
       "    }\n",
       "\n",
       "    .dataframe tbody tr th {\n",
       "        vertical-align: top;\n",
       "    }\n",
       "\n",
       "    .dataframe thead th {\n",
       "        text-align: right;\n",
       "    }\n",
       "</style>\n",
       "<table border=\"1\" class=\"dataframe\">\n",
       "  <thead>\n",
       "    <tr style=\"text-align: right;\">\n",
       "      <th></th>\n",
       "      <th>title</th>\n",
       "      <th>vote_average</th>\n",
       "      <th>vote_count</th>\n",
       "      <th>year</th>\n",
       "    </tr>\n",
       "  </thead>\n",
       "  <tbody>\n",
       "    <tr>\n",
       "      <th>1881</th>\n",
       "      <td>The Shawshank Redemption</td>\n",
       "      <td>8.5</td>\n",
       "      <td>8205.0</td>\n",
       "      <td>1994</td>\n",
       "    </tr>\n",
       "    <tr>\n",
       "      <th>3337</th>\n",
       "      <td>The Godfather</td>\n",
       "      <td>8.4</td>\n",
       "      <td>5893.0</td>\n",
       "      <td>1972</td>\n",
       "    </tr>\n",
       "    <tr>\n",
       "      <th>3232</th>\n",
       "      <td>Pulp Fiction</td>\n",
       "      <td>8.3</td>\n",
       "      <td>8428.0</td>\n",
       "      <td>1994</td>\n",
       "    </tr>\n",
       "    <tr>\n",
       "      <th>662</th>\n",
       "      <td>Fight Club</td>\n",
       "      <td>8.3</td>\n",
       "      <td>9413.0</td>\n",
       "      <td>1999</td>\n",
       "    </tr>\n",
       "    <tr>\n",
       "      <th>2294</th>\n",
       "      <td>Spirited Away</td>\n",
       "      <td>8.3</td>\n",
       "      <td>3840.0</td>\n",
       "      <td>2001</td>\n",
       "    </tr>\n",
       "    <tr>\n",
       "      <th>2731</th>\n",
       "      <td>The Godfather: Part II</td>\n",
       "      <td>8.3</td>\n",
       "      <td>3338.0</td>\n",
       "      <td>1974</td>\n",
       "    </tr>\n",
       "    <tr>\n",
       "      <th>1818</th>\n",
       "      <td>Schindler's List</td>\n",
       "      <td>8.3</td>\n",
       "      <td>4329.0</td>\n",
       "      <td>1993</td>\n",
       "    </tr>\n",
       "    <tr>\n",
       "      <th>3865</th>\n",
       "      <td>Whiplash</td>\n",
       "      <td>8.3</td>\n",
       "      <td>4254.0</td>\n",
       "      <td>2014</td>\n",
       "    </tr>\n",
       "    <tr>\n",
       "      <th>2170</th>\n",
       "      <td>Psycho</td>\n",
       "      <td>8.2</td>\n",
       "      <td>2320.0</td>\n",
       "      <td>1960</td>\n",
       "    </tr>\n",
       "    <tr>\n",
       "      <th>1990</th>\n",
       "      <td>The Empire Strikes Back</td>\n",
       "      <td>8.2</td>\n",
       "      <td>5879.0</td>\n",
       "      <td>1980</td>\n",
       "    </tr>\n",
       "  </tbody>\n",
       "</table>\n",
       "</div>"
      ],
      "text/plain": [
       "                         title  vote_average  vote_count  year\n",
       "1881  The Shawshank Redemption           8.5      8205.0  1994\n",
       "3337             The Godfather           8.4      5893.0  1972\n",
       "3232              Pulp Fiction           8.3      8428.0  1994\n",
       "662                 Fight Club           8.3      9413.0  1999\n",
       "2294             Spirited Away           8.3      3840.0  2001\n",
       "2731    The Godfather: Part II           8.3      3338.0  1974\n",
       "1818          Schindler's List           8.3      4329.0  1993\n",
       "3865                  Whiplash           8.3      4254.0  2014\n",
       "2170                    Psycho           8.2      2320.0  1960\n",
       "1990   The Empire Strikes Back           8.2      5879.0  1980"
      ]
     },
     "execution_count": 96,
     "metadata": {},
     "output_type": "execute_result"
    }
   ],
   "source": [
    "movies[movies['vote_count'] > 2000][['title', 'vote_average', 'vote_count' ,'year']].sort_values('vote_average', ascending=False).head(10)"
   ]
  },
  {
   "cell_type": "markdown",
   "id": "011fe366",
   "metadata": {},
   "source": [
    "**The Shawshank Redemption** and **The Godfather** are the two most critically acclaimed movies in the  Dataset. Interestingly, they are the top 2 movies in  Top 250 Movies list too. They have a rating of c 8.5 and 8.4."
   ]
  },
  {
   "cell_type": "code",
   "execution_count": null,
   "id": "ec74013f",
   "metadata": {},
   "outputs": [],
   "source": []
  },
  {
   "cell_type": "code",
   "execution_count": null,
   "id": "2ed5e395",
   "metadata": {},
   "outputs": [],
   "source": []
  },
  {
   "cell_type": "markdown",
   "id": "ed8835fd",
   "metadata": {},
   "source": [
    "### Movie Release Dates"
   ]
  },
  {
   "cell_type": "markdown",
   "id": "2b9656f1",
   "metadata": {},
   "source": [
    "Release Dates can often play a very important role in determining the success and the revenue generated by a particular movie. In this section, we will try and gain insights about release dates in terms of years, months and days of the week. \n",
    "\n",
    "We have already constructed the **year** feature in our preliminary data wrangling step. Let us now extract the month and day too for each movie with a release date."
   ]
  },
  {
   "cell_type": "code",
   "execution_count": 97,
   "id": "6ad10a3e",
   "metadata": {},
   "outputs": [],
   "source": [
    "month_order = ['Jan', 'Feb', 'Mar', 'Apr', 'May', 'Jun', 'Jul', 'Aug', 'Sep', 'Oct', 'Nov', 'Dec']\n",
    "day_order = ['Mon', 'Tue', 'Wed', 'Thu', 'Fri', 'Sat', 'Sun']"
   ]
  },
  {
   "cell_type": "code",
   "execution_count": 98,
   "id": "fac05e7b",
   "metadata": {},
   "outputs": [],
   "source": [
    "#a function to figure months\n",
    "def get_month(x):\n",
    "    try:\n",
    "        return month_order[int(str(x).split('-')[1]) - 1]\n",
    "    except:\n",
    "        return np.nan"
   ]
  },
  {
   "cell_type": "code",
   "execution_count": 99,
   "id": "59e7fb57",
   "metadata": {},
   "outputs": [],
   "source": [
    "# function to figure days\n",
    "def get_day(x):\n",
    "    try:\n",
    "        year, month, day = (int(i) for i in x.split('-'))    \n",
    "        answer = datetime.date(year, month, day).weekday()\n",
    "        return day_order[answer]\n",
    "    except:\n",
    "        return np.nan"
   ]
  },
  {
   "cell_type": "code",
   "execution_count": 100,
   "id": "e53850a3",
   "metadata": {},
   "outputs": [],
   "source": [
    "movies['day'] = movies['release_date'].apply(get_day)\n",
    "movies['month'] = movies['release_date'].apply(get_month)"
   ]
  },
  {
   "cell_type": "markdown",
   "id": "e094965f",
   "metadata": {},
   "source": [
    "With these features in hand, let us now check the most popular and most successful months and days."
   ]
  },
  {
   "cell_type": "code",
   "execution_count": 101,
   "id": "145f33e5",
   "metadata": {},
   "outputs": [
    {
     "data": {
      "text/plain": [
       "<AxesSubplot:title={'center':'Number of Movies released in a particular month.'}, xlabel='month', ylabel='count'>"
      ]
     },
     "execution_count": 101,
     "metadata": {},
     "output_type": "execute_result"
    },
    {
     "data": {
      "image/png": "[encoded data removed]",
      "text/plain": [
       "<Figure size 864x432 with 1 Axes>"
      ]
     },
     "metadata": {},
     "output_type": "display_data"
    }
   ],
   "source": [
    "plt.figure(figsize=(12,6))\n",
    "plt.title(\"Number of Movies released in a particular month.\")\n",
    "sns.countplot(x='month', data=movies, order=month_order)"
   ]
  },
  {
   "cell_type": "markdown",
   "id": "ba6bf3c7",
   "metadata": {},
   "source": [
    "It appears that **September** is the most popular month when it comes to movie releases.\n",
    "\n",
    "In which months do bockbuster movies tend to release? To answer this question, we will consider all movies that have made in excess of 100 million  and calculate the average gross for each month."
   ]
  },
  {
   "cell_type": "code",
   "execution_count": 102,
   "id": "4206743f",
   "metadata": {},
   "outputs": [
    {
     "data": {
      "text/plain": [
       "<AxesSubplot:title={'center':'Average Gross by the Month for Blockbuster Movies'}, xlabel='mon', ylabel='revenue'>"
      ]
     },
     "execution_count": 102,
     "metadata": {},
     "output_type": "execute_result"
    },
    {
     "data": {
      "image/png": "[encoded data removed]",
      "text/plain": [
       "<Figure size 864x432 with 1 Axes>"
      ]
     },
     "metadata": {},
     "output_type": "display_data"
    }
   ],
   "source": [
    "month_mean = pd.DataFrame(movies[movies['revenue'] > 1e8].groupby('month')['revenue'].mean())\n",
    "month_mean['mon'] = month_mean.index\n",
    "plt.figure(figsize=(12,6))\n",
    "plt.title(\"Average Gross by the Month for Blockbuster Movies\")\n",
    "sns.barplot(x='mon', y='revenue', data=month_mean, order=month_order)"
   ]
  },
  {
   "cell_type": "markdown",
   "id": "6452194f",
   "metadata": {},
   "source": [
    "We see that the months of **April**, **May** and **June** have the highest average gross among high grossing movies. This can be attributed to the fact that blockbuster movies are usually released in the summer when the kids are out of school and the parents are on vacation and therefore, the audience is more likely to spend their disposable income on entertainment.\n",
    "\n",
    "Let us now have a look at the most popular days as we did for months."
   ]
  },
  {
   "cell_type": "code",
   "execution_count": null,
   "id": "2b2d342e",
   "metadata": {},
   "outputs": [],
   "source": []
  },
  {
   "cell_type": "markdown",
   "id": "191b2b29",
   "metadata": {},
   "source": [
    "#### Number of Movies by the year\n",
    "\n",
    "The Dataset of 4,803 movies available to us does not represent the entire corpus of movies released since the inception of cinema. However, it is reasomnable to assume that it does include almost every major film released in Hollywood as well as other major film industries across the world (such as Bollywood in India). With this assumption in mind, let us take a look at the number of movies produced by the year."
   ]
  },
  {
   "cell_type": "code",
   "execution_count": 103,
   "id": "f5cb4ff3",
   "metadata": {},
   "outputs": [
    {
     "data": {
      "text/plain": [
       "<AxesSubplot:xlabel='year'>"
      ]
     },
     "execution_count": 103,
     "metadata": {},
     "output_type": "execute_result"
    },
    {
     "data": {
      "image/png": "[encoded data removed]",
      "text/plain": [
       "<Figure size 1296x360 with 1 Axes>"
      ]
     },
     "metadata": {},
     "output_type": "display_data"
    }
   ],
   "source": [
    "year_count = movies.groupby('year')['title'].count()\n",
    "plt.figure(figsize=(18,5))\n",
    "year_count.plot()"
   ]
  },
  {
   "cell_type": "markdown",
   "id": "7adab570",
   "metadata": {},
   "source": [
    "We notice that there is a sharp rise in the number of movies **starting the 1990s decade.** However, we will not look too much into this as it is entirely possible that recent movies were oversampled for the purposes of this dataset.\n",
    "\n",
    "Next, let us take a look at the earliest movies represented in the dataset.\n",
    "\n",
    "#### Earliest Movies Represented"
   ]
  },
  {
   "cell_type": "code",
   "execution_count": 104,
   "id": "5719eafc",
   "metadata": {},
   "outputs": [
    {
     "data": {
      "text/html": [
       "<div>\n",
       "<style scoped>\n",
       "    .dataframe tbody tr th:only-of-type {\n",
       "        vertical-align: middle;\n",
       "    }\n",
       "\n",
       "    .dataframe tbody tr th {\n",
       "        vertical-align: top;\n",
       "    }\n",
       "\n",
       "    .dataframe thead th {\n",
       "        text-align: right;\n",
       "    }\n",
       "</style>\n",
       "<table border=\"1\" class=\"dataframe\">\n",
       "  <thead>\n",
       "    <tr style=\"text-align: right;\">\n",
       "      <th></th>\n",
       "      <th>title</th>\n",
       "      <th>year</th>\n",
       "    </tr>\n",
       "  </thead>\n",
       "  <tbody>\n",
       "    <tr>\n",
       "      <th>4592</th>\n",
       "      <td>Intolerance</td>\n",
       "      <td>1916</td>\n",
       "    </tr>\n",
       "    <tr>\n",
       "      <th>4661</th>\n",
       "      <td>The Big Parade</td>\n",
       "      <td>1925</td>\n",
       "    </tr>\n",
       "    <tr>\n",
       "      <th>2638</th>\n",
       "      <td>Metropolis</td>\n",
       "      <td>1927</td>\n",
       "    </tr>\n",
       "    <tr>\n",
       "      <th>4594</th>\n",
       "      <td>The Broadway Melody</td>\n",
       "      <td>1929</td>\n",
       "    </tr>\n",
       "    <tr>\n",
       "      <th>4457</th>\n",
       "      <td>Pandora's Box</td>\n",
       "      <td>1929</td>\n",
       "    </tr>\n",
       "    <tr>\n",
       "      <th>3804</th>\n",
       "      <td>Hell's Angels</td>\n",
       "      <td>1930</td>\n",
       "    </tr>\n",
       "    <tr>\n",
       "      <th>3611</th>\n",
       "      <td>A Farewell to Arms</td>\n",
       "      <td>1932</td>\n",
       "    </tr>\n",
       "    <tr>\n",
       "      <th>4570</th>\n",
       "      <td>42nd Street</td>\n",
       "      <td>1933</td>\n",
       "    </tr>\n",
       "    <tr>\n",
       "      <th>4673</th>\n",
       "      <td>She Done Him Wrong</td>\n",
       "      <td>1933</td>\n",
       "    </tr>\n",
       "    <tr>\n",
       "      <th>4604</th>\n",
       "      <td>It Happened One Night</td>\n",
       "      <td>1934</td>\n",
       "    </tr>\n",
       "  </tbody>\n",
       "</table>\n",
       "</div>"
      ],
      "text/plain": [
       "                      title  year\n",
       "4592            Intolerance  1916\n",
       "4661         The Big Parade  1925\n",
       "2638             Metropolis  1927\n",
       "4594    The Broadway Melody  1929\n",
       "4457          Pandora's Box  1929\n",
       "3804          Hell's Angels  1930\n",
       "3611     A Farewell to Arms  1932\n",
       "4570            42nd Street  1933\n",
       "4673     She Done Him Wrong  1933\n",
       "4604  It Happened One Night  1934"
      ]
     },
     "execution_count": 104,
     "metadata": {},
     "output_type": "execute_result"
    }
   ],
   "source": [
    "movies[movies['year'] != 'NoT'][['title', 'year']].sort_values('year').head(10)"
   ]
  },
  {
   "cell_type": "markdown",
   "id": "dca95a3d",
   "metadata": {},
   "source": [
    "The oldest movie, **Intolerance**, in 1916. "
   ]
  },
  {
   "cell_type": "code",
   "execution_count": null,
   "id": "9eb8d4b2",
   "metadata": {},
   "outputs": [],
   "source": []
  },
  {
   "cell_type": "markdown",
   "id": "1afff58e",
   "metadata": {},
   "source": [
    "Finally, in this section, let us construct a heatmap to indicate movie releases by month and year for all movies released in this century. This will give us a good idea of the *hot* and *cold* months for movie buffs."
   ]
  },
  {
   "cell_type": "code",
   "execution_count": 105,
   "id": "b4d31d14",
   "metadata": {},
   "outputs": [],
   "source": [
    "months = {'Jan': 1, 'Feb': 2, 'Mar': 3, 'Apr': 4, 'May': 5, 'Jun': 6, 'Jul': 7, 'Aug': 8, 'Sep': 9, 'Oct': 10, 'Nov': 11, 'Dec': 12}\n"
   ]
  },
  {
   "cell_type": "code",
   "execution_count": 106,
   "id": "0947d588",
   "metadata": {},
   "outputs": [],
   "source": [
    "df_21 = movies.copy()\n",
    "df_21['year'] = df_21[df_21['year'] != 'NoT']['year'].astype(int)\n",
    "df_21 = df_21[df_21['year'] >=2000]\n",
    "hmap_21 = pd.pivot_table(data=df_21, index='month', columns='year', aggfunc='count', values='title')\n",
    "hmap_21 = hmap_21.fillna(0)"
   ]
  },
  {
   "cell_type": "code",
   "execution_count": 107,
   "id": "c67e6b77",
   "metadata": {},
   "outputs": [
    {
     "data": {
      "text/plain": [
       "<AxesSubplot:xlabel='year', ylabel='month'>"
      ]
     },
     "execution_count": 107,
     "metadata": {},
     "output_type": "execute_result"
    },
    {
     "data": {
      "image/png": "[encoded data removed]",
      "text/plain": [
       "<Figure size 1152x576 with 2 Axes>"
      ]
     },
     "metadata": {},
     "output_type": "display_data"
    }
   ],
   "source": [
    "sns.set(font_scale=1)\n",
    "f, ax = plt.subplots(figsize=(16, 8))\n",
    "sns.heatmap(hmap_21, annot=True, linewidths=.5, ax=ax, fmt='n', yticklabels=month_order)\n"
   ]
  },
  {
   "cell_type": "markdown",
   "id": "17fd435e",
   "metadata": {},
   "source": [
    "\n"
   ]
  },
  {
   "cell_type": "code",
   "execution_count": null,
   "id": "0a62d968",
   "metadata": {},
   "outputs": [],
   "source": []
  },
  {
   "cell_type": "code",
   "execution_count": null,
   "id": "b0bc1de4",
   "metadata": {},
   "outputs": [],
   "source": []
  },
  {
   "cell_type": "code",
   "execution_count": null,
   "id": "9dc74a05",
   "metadata": {},
   "outputs": [],
   "source": []
  },
  {
   "cell_type": "markdown",
   "id": "dab2c199",
   "metadata": {},
   "source": [
    "<a id='conclusions'></a>\n",
    "## Conclusions\n",
    "\n",
    "After thorough analysis,  we can conclude that \n",
    "\n",
    "\n",
    "\n",
    "> According to the plot we can say that movies in the range of 100-200 runtime are more popular than other runtime movies. Because it is boring to see the long duration movies.**  .\n",
    "\n",
    "> Budget does not really affect/influence movie performance.\n",
    "\n",
    ">The number of movies production increased in recent years.\n",
    "\n",
    "\n",
    "\n",
    "Using these pro tips, movie companies can secure top charts and take the best profits.\n",
    "\n",
    "## Limitations in this analysis\n",
    ">This analysis was done on thousands of movies, some of these columns and cells contianed null values and dropping these rows affected the overall analysis.\n",
    "It could also have helped if a currency was specified for all  the columns conveying monetary value.\n",
    "\n"
   ]
  },
  {
   "cell_type": "markdown",
   "id": "bb0073a0",
   "metadata": {},
   "source": [
    " [Back to Outline](#Stephen-Owusu-Nkansah-Movies-Data-Analysis)"
   ]
  }
 ],
 "metadata": {
  "kernelspec": {
   "display_name": "Python 3 (ipykernel)",
   "language": "python",
   "name": "python3"
  },
  "language_info": {
   "codemirror_mode": {
    "name": "ipython",
    "version": 3
   },
   "file_extension": ".py",
   "mimetype": "text/x-python",
   "name": "python",
   "nbconvert_exporter": "python",
   "pygments_lexer": "ipython3",
   "version": "3.8.10"
  }
 },
 "nbformat": 4,
 "nbformat_minor": 5
}
